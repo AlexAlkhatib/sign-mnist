{
 "cells": [
  {
   "cell_type": "markdown",
   "id": "f2127ef7-e65d-4190-a333-0cddca65a0ac",
   "metadata": {},
   "source": [
    "### Charger les données et les transformer en images de 28 x 28 pixels"
   ]
  },
  {
   "cell_type": "code",
   "execution_count": 1,
   "id": "d739b740-7051-437d-8ecd-b050dae1f335",
   "metadata": {},
   "outputs": [],
   "source": [
    "import matplotlib.pyplot as plt\n",
    "import pandas as pd\n",
    "import seaborn as sns\n",
    "import numpy as np\n",
    "from sklearn.model_selection import train_test_split\n",
    "from sklearn.metrics import mean_squared_error, mean_absolute_error\n",
    "from tensorflow.keras.utils import to_categorical, plot_model\n",
    "from tensorflow.keras.layers import Input, Dense, Conv2D, MaxPooling2D, AveragePooling2D, Flatten, Dropout, RandomFlip, RandomRotation, RandomZoom, RandomTranslation\n",
    "from tensorflow.keras.models import Sequential, load_model\n",
    "from tensorflow.keras.callbacks import EarlyStopping\n",
    "from tensorflow.keras.optimizers import Adam, RMSprop"
   ]
  },
  {
   "cell_type": "code",
   "execution_count": 2,
   "id": "cf0e0ae7-0801-43c3-aac5-f9b77c044c7b",
   "metadata": {},
   "outputs": [],
   "source": [
    "X_train = pd.read_csv(\"./sign_mnist_train.csv\")\n",
    "X_test = pd.read_csv(\"./sign_mnist_test.csv\")"
   ]
  },
  {
   "cell_type": "code",
   "execution_count": 3,
   "id": "3ee48f34-1ed8-4010-a4fb-e277d4fe3795",
   "metadata": {},
   "outputs": [
    {
     "data": {
      "text/html": [
       "<div>\n",
       "<style scoped>\n",
       "    .dataframe tbody tr th:only-of-type {\n",
       "        vertical-align: middle;\n",
       "    }\n",
       "\n",
       "    .dataframe tbody tr th {\n",
       "        vertical-align: top;\n",
       "    }\n",
       "\n",
       "    .dataframe thead th {\n",
       "        text-align: right;\n",
       "    }\n",
       "</style>\n",
       "<table border=\"1\" class=\"dataframe\">\n",
       "  <thead>\n",
       "    <tr style=\"text-align: right;\">\n",
       "      <th></th>\n",
       "      <th>label</th>\n",
       "      <th>pixel1</th>\n",
       "      <th>pixel2</th>\n",
       "      <th>pixel3</th>\n",
       "      <th>pixel4</th>\n",
       "      <th>pixel5</th>\n",
       "      <th>pixel6</th>\n",
       "      <th>pixel7</th>\n",
       "      <th>pixel8</th>\n",
       "      <th>pixel9</th>\n",
       "      <th>...</th>\n",
       "      <th>pixel775</th>\n",
       "      <th>pixel776</th>\n",
       "      <th>pixel777</th>\n",
       "      <th>pixel778</th>\n",
       "      <th>pixel779</th>\n",
       "      <th>pixel780</th>\n",
       "      <th>pixel781</th>\n",
       "      <th>pixel782</th>\n",
       "      <th>pixel783</th>\n",
       "      <th>pixel784</th>\n",
       "    </tr>\n",
       "  </thead>\n",
       "  <tbody>\n",
       "    <tr>\n",
       "      <th>0</th>\n",
       "      <td>3</td>\n",
       "      <td>107</td>\n",
       "      <td>118</td>\n",
       "      <td>127</td>\n",
       "      <td>134</td>\n",
       "      <td>139</td>\n",
       "      <td>143</td>\n",
       "      <td>146</td>\n",
       "      <td>150</td>\n",
       "      <td>153</td>\n",
       "      <td>...</td>\n",
       "      <td>207</td>\n",
       "      <td>207</td>\n",
       "      <td>207</td>\n",
       "      <td>207</td>\n",
       "      <td>206</td>\n",
       "      <td>206</td>\n",
       "      <td>206</td>\n",
       "      <td>204</td>\n",
       "      <td>203</td>\n",
       "      <td>202</td>\n",
       "    </tr>\n",
       "    <tr>\n",
       "      <th>1</th>\n",
       "      <td>6</td>\n",
       "      <td>155</td>\n",
       "      <td>157</td>\n",
       "      <td>156</td>\n",
       "      <td>156</td>\n",
       "      <td>156</td>\n",
       "      <td>157</td>\n",
       "      <td>156</td>\n",
       "      <td>158</td>\n",
       "      <td>158</td>\n",
       "      <td>...</td>\n",
       "      <td>69</td>\n",
       "      <td>149</td>\n",
       "      <td>128</td>\n",
       "      <td>87</td>\n",
       "      <td>94</td>\n",
       "      <td>163</td>\n",
       "      <td>175</td>\n",
       "      <td>103</td>\n",
       "      <td>135</td>\n",
       "      <td>149</td>\n",
       "    </tr>\n",
       "    <tr>\n",
       "      <th>2</th>\n",
       "      <td>2</td>\n",
       "      <td>187</td>\n",
       "      <td>188</td>\n",
       "      <td>188</td>\n",
       "      <td>187</td>\n",
       "      <td>187</td>\n",
       "      <td>186</td>\n",
       "      <td>187</td>\n",
       "      <td>188</td>\n",
       "      <td>187</td>\n",
       "      <td>...</td>\n",
       "      <td>202</td>\n",
       "      <td>201</td>\n",
       "      <td>200</td>\n",
       "      <td>199</td>\n",
       "      <td>198</td>\n",
       "      <td>199</td>\n",
       "      <td>198</td>\n",
       "      <td>195</td>\n",
       "      <td>194</td>\n",
       "      <td>195</td>\n",
       "    </tr>\n",
       "    <tr>\n",
       "      <th>3</th>\n",
       "      <td>2</td>\n",
       "      <td>211</td>\n",
       "      <td>211</td>\n",
       "      <td>212</td>\n",
       "      <td>212</td>\n",
       "      <td>211</td>\n",
       "      <td>210</td>\n",
       "      <td>211</td>\n",
       "      <td>210</td>\n",
       "      <td>210</td>\n",
       "      <td>...</td>\n",
       "      <td>235</td>\n",
       "      <td>234</td>\n",
       "      <td>233</td>\n",
       "      <td>231</td>\n",
       "      <td>230</td>\n",
       "      <td>226</td>\n",
       "      <td>225</td>\n",
       "      <td>222</td>\n",
       "      <td>229</td>\n",
       "      <td>163</td>\n",
       "    </tr>\n",
       "    <tr>\n",
       "      <th>4</th>\n",
       "      <td>13</td>\n",
       "      <td>164</td>\n",
       "      <td>167</td>\n",
       "      <td>170</td>\n",
       "      <td>172</td>\n",
       "      <td>176</td>\n",
       "      <td>179</td>\n",
       "      <td>180</td>\n",
       "      <td>184</td>\n",
       "      <td>185</td>\n",
       "      <td>...</td>\n",
       "      <td>92</td>\n",
       "      <td>105</td>\n",
       "      <td>105</td>\n",
       "      <td>108</td>\n",
       "      <td>133</td>\n",
       "      <td>163</td>\n",
       "      <td>157</td>\n",
       "      <td>163</td>\n",
       "      <td>164</td>\n",
       "      <td>179</td>\n",
       "    </tr>\n",
       "    <tr>\n",
       "      <th>5</th>\n",
       "      <td>16</td>\n",
       "      <td>161</td>\n",
       "      <td>168</td>\n",
       "      <td>172</td>\n",
       "      <td>173</td>\n",
       "      <td>178</td>\n",
       "      <td>184</td>\n",
       "      <td>189</td>\n",
       "      <td>193</td>\n",
       "      <td>196</td>\n",
       "      <td>...</td>\n",
       "      <td>76</td>\n",
       "      <td>74</td>\n",
       "      <td>68</td>\n",
       "      <td>62</td>\n",
       "      <td>53</td>\n",
       "      <td>55</td>\n",
       "      <td>48</td>\n",
       "      <td>238</td>\n",
       "      <td>255</td>\n",
       "      <td>255</td>\n",
       "    </tr>\n",
       "    <tr>\n",
       "      <th>6</th>\n",
       "      <td>8</td>\n",
       "      <td>134</td>\n",
       "      <td>134</td>\n",
       "      <td>135</td>\n",
       "      <td>135</td>\n",
       "      <td>136</td>\n",
       "      <td>137</td>\n",
       "      <td>137</td>\n",
       "      <td>138</td>\n",
       "      <td>138</td>\n",
       "      <td>...</td>\n",
       "      <td>109</td>\n",
       "      <td>102</td>\n",
       "      <td>91</td>\n",
       "      <td>65</td>\n",
       "      <td>138</td>\n",
       "      <td>189</td>\n",
       "      <td>179</td>\n",
       "      <td>181</td>\n",
       "      <td>181</td>\n",
       "      <td>179</td>\n",
       "    </tr>\n",
       "    <tr>\n",
       "      <th>7</th>\n",
       "      <td>22</td>\n",
       "      <td>114</td>\n",
       "      <td>42</td>\n",
       "      <td>74</td>\n",
       "      <td>99</td>\n",
       "      <td>104</td>\n",
       "      <td>109</td>\n",
       "      <td>117</td>\n",
       "      <td>127</td>\n",
       "      <td>142</td>\n",
       "      <td>...</td>\n",
       "      <td>214</td>\n",
       "      <td>218</td>\n",
       "      <td>220</td>\n",
       "      <td>223</td>\n",
       "      <td>223</td>\n",
       "      <td>225</td>\n",
       "      <td>227</td>\n",
       "      <td>227</td>\n",
       "      <td>228</td>\n",
       "      <td>228</td>\n",
       "    </tr>\n",
       "    <tr>\n",
       "      <th>8</th>\n",
       "      <td>3</td>\n",
       "      <td>169</td>\n",
       "      <td>174</td>\n",
       "      <td>176</td>\n",
       "      <td>180</td>\n",
       "      <td>183</td>\n",
       "      <td>185</td>\n",
       "      <td>187</td>\n",
       "      <td>188</td>\n",
       "      <td>190</td>\n",
       "      <td>...</td>\n",
       "      <td>119</td>\n",
       "      <td>118</td>\n",
       "      <td>123</td>\n",
       "      <td>120</td>\n",
       "      <td>118</td>\n",
       "      <td>114</td>\n",
       "      <td>94</td>\n",
       "      <td>74</td>\n",
       "      <td>61</td>\n",
       "      <td>57</td>\n",
       "    </tr>\n",
       "    <tr>\n",
       "      <th>9</th>\n",
       "      <td>3</td>\n",
       "      <td>189</td>\n",
       "      <td>189</td>\n",
       "      <td>189</td>\n",
       "      <td>190</td>\n",
       "      <td>190</td>\n",
       "      <td>191</td>\n",
       "      <td>190</td>\n",
       "      <td>190</td>\n",
       "      <td>190</td>\n",
       "      <td>...</td>\n",
       "      <td>13</td>\n",
       "      <td>53</td>\n",
       "      <td>200</td>\n",
       "      <td>204</td>\n",
       "      <td>201</td>\n",
       "      <td>201</td>\n",
       "      <td>193</td>\n",
       "      <td>175</td>\n",
       "      <td>178</td>\n",
       "      <td>156</td>\n",
       "    </tr>\n",
       "  </tbody>\n",
       "</table>\n",
       "<p>10 rows × 785 columns</p>\n",
       "</div>"
      ],
      "text/plain": [
       "   label  pixel1  pixel2  pixel3  pixel4  pixel5  pixel6  pixel7  pixel8  \\\n",
       "0      3     107     118     127     134     139     143     146     150   \n",
       "1      6     155     157     156     156     156     157     156     158   \n",
       "2      2     187     188     188     187     187     186     187     188   \n",
       "3      2     211     211     212     212     211     210     211     210   \n",
       "4     13     164     167     170     172     176     179     180     184   \n",
       "5     16     161     168     172     173     178     184     189     193   \n",
       "6      8     134     134     135     135     136     137     137     138   \n",
       "7     22     114      42      74      99     104     109     117     127   \n",
       "8      3     169     174     176     180     183     185     187     188   \n",
       "9      3     189     189     189     190     190     191     190     190   \n",
       "\n",
       "   pixel9  ...  pixel775  pixel776  pixel777  pixel778  pixel779  pixel780  \\\n",
       "0     153  ...       207       207       207       207       206       206   \n",
       "1     158  ...        69       149       128        87        94       163   \n",
       "2     187  ...       202       201       200       199       198       199   \n",
       "3     210  ...       235       234       233       231       230       226   \n",
       "4     185  ...        92       105       105       108       133       163   \n",
       "5     196  ...        76        74        68        62        53        55   \n",
       "6     138  ...       109       102        91        65       138       189   \n",
       "7     142  ...       214       218       220       223       223       225   \n",
       "8     190  ...       119       118       123       120       118       114   \n",
       "9     190  ...        13        53       200       204       201       201   \n",
       "\n",
       "   pixel781  pixel782  pixel783  pixel784  \n",
       "0       206       204       203       202  \n",
       "1       175       103       135       149  \n",
       "2       198       195       194       195  \n",
       "3       225       222       229       163  \n",
       "4       157       163       164       179  \n",
       "5        48       238       255       255  \n",
       "6       179       181       181       179  \n",
       "7       227       227       228       228  \n",
       "8        94        74        61        57  \n",
       "9       193       175       178       156  \n",
       "\n",
       "[10 rows x 785 columns]"
      ]
     },
     "execution_count": 3,
     "metadata": {},
     "output_type": "execute_result"
    }
   ],
   "source": [
    "X_train.head(10)"
   ]
  },
  {
   "cell_type": "code",
   "execution_count": 4,
   "id": "4a5b2515-5ca4-437b-aa9f-6b07cf38541c",
   "metadata": {},
   "outputs": [
    {
     "data": {
      "text/html": [
       "<div>\n",
       "<style scoped>\n",
       "    .dataframe tbody tr th:only-of-type {\n",
       "        vertical-align: middle;\n",
       "    }\n",
       "\n",
       "    .dataframe tbody tr th {\n",
       "        vertical-align: top;\n",
       "    }\n",
       "\n",
       "    .dataframe thead th {\n",
       "        text-align: right;\n",
       "    }\n",
       "</style>\n",
       "<table border=\"1\" class=\"dataframe\">\n",
       "  <thead>\n",
       "    <tr style=\"text-align: right;\">\n",
       "      <th></th>\n",
       "      <th>label</th>\n",
       "      <th>pixel1</th>\n",
       "      <th>pixel2</th>\n",
       "      <th>pixel3</th>\n",
       "      <th>pixel4</th>\n",
       "      <th>pixel5</th>\n",
       "      <th>pixel6</th>\n",
       "      <th>pixel7</th>\n",
       "      <th>pixel8</th>\n",
       "      <th>pixel9</th>\n",
       "      <th>...</th>\n",
       "      <th>pixel775</th>\n",
       "      <th>pixel776</th>\n",
       "      <th>pixel777</th>\n",
       "      <th>pixel778</th>\n",
       "      <th>pixel779</th>\n",
       "      <th>pixel780</th>\n",
       "      <th>pixel781</th>\n",
       "      <th>pixel782</th>\n",
       "      <th>pixel783</th>\n",
       "      <th>pixel784</th>\n",
       "    </tr>\n",
       "  </thead>\n",
       "  <tbody>\n",
       "    <tr>\n",
       "      <th>0</th>\n",
       "      <td>6</td>\n",
       "      <td>149</td>\n",
       "      <td>149</td>\n",
       "      <td>150</td>\n",
       "      <td>150</td>\n",
       "      <td>150</td>\n",
       "      <td>151</td>\n",
       "      <td>151</td>\n",
       "      <td>150</td>\n",
       "      <td>151</td>\n",
       "      <td>...</td>\n",
       "      <td>138</td>\n",
       "      <td>148</td>\n",
       "      <td>127</td>\n",
       "      <td>89</td>\n",
       "      <td>82</td>\n",
       "      <td>96</td>\n",
       "      <td>106</td>\n",
       "      <td>112</td>\n",
       "      <td>120</td>\n",
       "      <td>107</td>\n",
       "    </tr>\n",
       "    <tr>\n",
       "      <th>1</th>\n",
       "      <td>5</td>\n",
       "      <td>126</td>\n",
       "      <td>128</td>\n",
       "      <td>131</td>\n",
       "      <td>132</td>\n",
       "      <td>133</td>\n",
       "      <td>134</td>\n",
       "      <td>135</td>\n",
       "      <td>135</td>\n",
       "      <td>136</td>\n",
       "      <td>...</td>\n",
       "      <td>47</td>\n",
       "      <td>104</td>\n",
       "      <td>194</td>\n",
       "      <td>183</td>\n",
       "      <td>186</td>\n",
       "      <td>184</td>\n",
       "      <td>184</td>\n",
       "      <td>184</td>\n",
       "      <td>182</td>\n",
       "      <td>180</td>\n",
       "    </tr>\n",
       "    <tr>\n",
       "      <th>2</th>\n",
       "      <td>10</td>\n",
       "      <td>85</td>\n",
       "      <td>88</td>\n",
       "      <td>92</td>\n",
       "      <td>96</td>\n",
       "      <td>105</td>\n",
       "      <td>123</td>\n",
       "      <td>135</td>\n",
       "      <td>143</td>\n",
       "      <td>147</td>\n",
       "      <td>...</td>\n",
       "      <td>68</td>\n",
       "      <td>166</td>\n",
       "      <td>242</td>\n",
       "      <td>227</td>\n",
       "      <td>230</td>\n",
       "      <td>227</td>\n",
       "      <td>226</td>\n",
       "      <td>225</td>\n",
       "      <td>224</td>\n",
       "      <td>222</td>\n",
       "    </tr>\n",
       "    <tr>\n",
       "      <th>3</th>\n",
       "      <td>0</td>\n",
       "      <td>203</td>\n",
       "      <td>205</td>\n",
       "      <td>207</td>\n",
       "      <td>206</td>\n",
       "      <td>207</td>\n",
       "      <td>209</td>\n",
       "      <td>210</td>\n",
       "      <td>209</td>\n",
       "      <td>210</td>\n",
       "      <td>...</td>\n",
       "      <td>154</td>\n",
       "      <td>248</td>\n",
       "      <td>247</td>\n",
       "      <td>248</td>\n",
       "      <td>253</td>\n",
       "      <td>236</td>\n",
       "      <td>230</td>\n",
       "      <td>240</td>\n",
       "      <td>253</td>\n",
       "      <td>255</td>\n",
       "    </tr>\n",
       "    <tr>\n",
       "      <th>4</th>\n",
       "      <td>3</td>\n",
       "      <td>188</td>\n",
       "      <td>191</td>\n",
       "      <td>193</td>\n",
       "      <td>195</td>\n",
       "      <td>199</td>\n",
       "      <td>201</td>\n",
       "      <td>202</td>\n",
       "      <td>203</td>\n",
       "      <td>203</td>\n",
       "      <td>...</td>\n",
       "      <td>26</td>\n",
       "      <td>40</td>\n",
       "      <td>64</td>\n",
       "      <td>48</td>\n",
       "      <td>29</td>\n",
       "      <td>46</td>\n",
       "      <td>49</td>\n",
       "      <td>46</td>\n",
       "      <td>46</td>\n",
       "      <td>53</td>\n",
       "    </tr>\n",
       "    <tr>\n",
       "      <th>5</th>\n",
       "      <td>21</td>\n",
       "      <td>72</td>\n",
       "      <td>79</td>\n",
       "      <td>87</td>\n",
       "      <td>101</td>\n",
       "      <td>115</td>\n",
       "      <td>124</td>\n",
       "      <td>131</td>\n",
       "      <td>135</td>\n",
       "      <td>139</td>\n",
       "      <td>...</td>\n",
       "      <td>187</td>\n",
       "      <td>189</td>\n",
       "      <td>192</td>\n",
       "      <td>193</td>\n",
       "      <td>194</td>\n",
       "      <td>194</td>\n",
       "      <td>194</td>\n",
       "      <td>195</td>\n",
       "      <td>195</td>\n",
       "      <td>194</td>\n",
       "    </tr>\n",
       "    <tr>\n",
       "      <th>6</th>\n",
       "      <td>10</td>\n",
       "      <td>93</td>\n",
       "      <td>100</td>\n",
       "      <td>112</td>\n",
       "      <td>118</td>\n",
       "      <td>123</td>\n",
       "      <td>127</td>\n",
       "      <td>131</td>\n",
       "      <td>133</td>\n",
       "      <td>136</td>\n",
       "      <td>...</td>\n",
       "      <td>173</td>\n",
       "      <td>175</td>\n",
       "      <td>177</td>\n",
       "      <td>178</td>\n",
       "      <td>180</td>\n",
       "      <td>180</td>\n",
       "      <td>181</td>\n",
       "      <td>181</td>\n",
       "      <td>181</td>\n",
       "      <td>183</td>\n",
       "    </tr>\n",
       "    <tr>\n",
       "      <th>7</th>\n",
       "      <td>14</td>\n",
       "      <td>177</td>\n",
       "      <td>177</td>\n",
       "      <td>177</td>\n",
       "      <td>177</td>\n",
       "      <td>177</td>\n",
       "      <td>178</td>\n",
       "      <td>179</td>\n",
       "      <td>179</td>\n",
       "      <td>178</td>\n",
       "      <td>...</td>\n",
       "      <td>232</td>\n",
       "      <td>223</td>\n",
       "      <td>224</td>\n",
       "      <td>224</td>\n",
       "      <td>223</td>\n",
       "      <td>221</td>\n",
       "      <td>221</td>\n",
       "      <td>221</td>\n",
       "      <td>220</td>\n",
       "      <td>219</td>\n",
       "    </tr>\n",
       "    <tr>\n",
       "      <th>8</th>\n",
       "      <td>3</td>\n",
       "      <td>191</td>\n",
       "      <td>194</td>\n",
       "      <td>196</td>\n",
       "      <td>198</td>\n",
       "      <td>201</td>\n",
       "      <td>203</td>\n",
       "      <td>204</td>\n",
       "      <td>205</td>\n",
       "      <td>205</td>\n",
       "      <td>...</td>\n",
       "      <td>43</td>\n",
       "      <td>57</td>\n",
       "      <td>78</td>\n",
       "      <td>64</td>\n",
       "      <td>47</td>\n",
       "      <td>62</td>\n",
       "      <td>65</td>\n",
       "      <td>62</td>\n",
       "      <td>62</td>\n",
       "      <td>68</td>\n",
       "    </tr>\n",
       "    <tr>\n",
       "      <th>9</th>\n",
       "      <td>7</td>\n",
       "      <td>171</td>\n",
       "      <td>172</td>\n",
       "      <td>172</td>\n",
       "      <td>173</td>\n",
       "      <td>173</td>\n",
       "      <td>173</td>\n",
       "      <td>173</td>\n",
       "      <td>173</td>\n",
       "      <td>172</td>\n",
       "      <td>...</td>\n",
       "      <td>199</td>\n",
       "      <td>199</td>\n",
       "      <td>198</td>\n",
       "      <td>196</td>\n",
       "      <td>195</td>\n",
       "      <td>194</td>\n",
       "      <td>183</td>\n",
       "      <td>85</td>\n",
       "      <td>65</td>\n",
       "      <td>124</td>\n",
       "    </tr>\n",
       "  </tbody>\n",
       "</table>\n",
       "<p>10 rows × 785 columns</p>\n",
       "</div>"
      ],
      "text/plain": [
       "   label  pixel1  pixel2  pixel3  pixel4  pixel5  pixel6  pixel7  pixel8  \\\n",
       "0      6     149     149     150     150     150     151     151     150   \n",
       "1      5     126     128     131     132     133     134     135     135   \n",
       "2     10      85      88      92      96     105     123     135     143   \n",
       "3      0     203     205     207     206     207     209     210     209   \n",
       "4      3     188     191     193     195     199     201     202     203   \n",
       "5     21      72      79      87     101     115     124     131     135   \n",
       "6     10      93     100     112     118     123     127     131     133   \n",
       "7     14     177     177     177     177     177     178     179     179   \n",
       "8      3     191     194     196     198     201     203     204     205   \n",
       "9      7     171     172     172     173     173     173     173     173   \n",
       "\n",
       "   pixel9  ...  pixel775  pixel776  pixel777  pixel778  pixel779  pixel780  \\\n",
       "0     151  ...       138       148       127        89        82        96   \n",
       "1     136  ...        47       104       194       183       186       184   \n",
       "2     147  ...        68       166       242       227       230       227   \n",
       "3     210  ...       154       248       247       248       253       236   \n",
       "4     203  ...        26        40        64        48        29        46   \n",
       "5     139  ...       187       189       192       193       194       194   \n",
       "6     136  ...       173       175       177       178       180       180   \n",
       "7     178  ...       232       223       224       224       223       221   \n",
       "8     205  ...        43        57        78        64        47        62   \n",
       "9     172  ...       199       199       198       196       195       194   \n",
       "\n",
       "   pixel781  pixel782  pixel783  pixel784  \n",
       "0       106       112       120       107  \n",
       "1       184       184       182       180  \n",
       "2       226       225       224       222  \n",
       "3       230       240       253       255  \n",
       "4        49        46        46        53  \n",
       "5       194       195       195       194  \n",
       "6       181       181       181       183  \n",
       "7       221       221       220       219  \n",
       "8        65        62        62        68  \n",
       "9       183        85        65       124  \n",
       "\n",
       "[10 rows x 785 columns]"
      ]
     },
     "execution_count": 4,
     "metadata": {},
     "output_type": "execute_result"
    }
   ],
   "source": [
    "X_test.head(10)"
   ]
  },
  {
   "cell_type": "code",
   "execution_count": 5,
   "id": "90b1d4e4-316e-41dc-bb9b-fc940d90ecc3",
   "metadata": {},
   "outputs": [],
   "source": [
    "X_train, X_val = train_test_split(X_train, test_size=1/6)"
   ]
  },
  {
   "cell_type": "code",
   "execution_count": 6,
   "id": "5f20fc1b-28ad-4c16-818f-8dafdbe52332",
   "metadata": {},
   "outputs": [],
   "source": [
    "target = \"label\""
   ]
  },
  {
   "cell_type": "code",
   "execution_count": 7,
   "id": "c7633585-eeae-4175-85c3-cc09bea0fac5",
   "metadata": {},
   "outputs": [],
   "source": [
    "y_train = X_train[target]\n",
    "y_val = X_val[target]\n",
    "y_test = X_test[target]"
   ]
  },
  {
   "cell_type": "code",
   "execution_count": 8,
   "id": "675e73f4-3549-4092-a533-3d68d5563847",
   "metadata": {},
   "outputs": [],
   "source": [
    "X_train = X_train.drop(target, axis=1)\n",
    "X_val = X_val.drop(target, axis=1)\n",
    "X_test = X_test.drop(target, axis=1)"
   ]
  },
  {
   "cell_type": "code",
   "execution_count": 9,
   "id": "b72eb97d-7c85-41bb-878f-7d3704abc666",
   "metadata": {},
   "outputs": [
    {
     "name": "stdout",
     "output_type": "stream",
     "text": [
      "(22879, 784)\n",
      "(4576, 784)\n",
      "(7172, 784)\n",
      "(22879,)\n",
      "(4576,)\n",
      "(7172,)\n"
     ]
    }
   ],
   "source": [
    "print(X_train.shape)\n",
    "print(X_val.shape)\n",
    "print(X_test.shape)\n",
    "print(y_train.shape)\n",
    "print(y_val.shape)\n",
    "print(y_test.shape)"
   ]
  },
  {
   "cell_type": "code",
   "execution_count": 10,
   "id": "1f4fc611-db4b-44de-9fa5-4fcb54b45406",
   "metadata": {},
   "outputs": [],
   "source": [
    "image_w = 28\n",
    "image_h = 28"
   ]
  },
  {
   "cell_type": "code",
   "execution_count": 11,
   "id": "56125a8f-a5b2-4041-b5c0-8b458ce7da92",
   "metadata": {},
   "outputs": [],
   "source": [
    "df_filtered = y_test[y_test == 10]"
   ]
  },
  {
   "cell_type": "code",
   "execution_count": 12,
   "id": "345fe409-cdc1-44a7-87e5-fd75c9cdff93",
   "metadata": {},
   "outputs": [
    {
     "data": {
      "text/plain": [
       "2       10\n",
       "6       10\n",
       "24      10\n",
       "60      10\n",
       "65      10\n",
       "        ..\n",
       "7083    10\n",
       "7124    10\n",
       "7127    10\n",
       "7138    10\n",
       "7162    10\n",
       "Name: label, Length: 331, dtype: int64"
      ]
     },
     "execution_count": 12,
     "metadata": {},
     "output_type": "execute_result"
    }
   ],
   "source": [
    "df_filtered"
   ]
  },
  {
   "cell_type": "code",
   "execution_count": 13,
   "id": "490439f9-69e6-4412-91da-bfc9d2da6cc3",
   "metadata": {},
   "outputs": [],
   "source": [
    "labels = {\n",
    "    'A': 0,\n",
    "    'B': 1,\n",
    "    'C': 2,\n",
    "    'D': 3,\n",
    "    'E': 4,\n",
    "    'F': 5,\n",
    "    'G': 6,\n",
    "    'H': 7,\n",
    "    'I': 8,\n",
    "    # 'J' est exclu\n",
    "    'K': 10,\n",
    "    'L': 11,\n",
    "    'M': 12,\n",
    "    'N': 13,\n",
    "    'O': 14,\n",
    "    'P': 15,\n",
    "    'Q': 16,\n",
    "    'R': 17,\n",
    "    'S': 18,\n",
    "    'T': 19,\n",
    "    'U': 20,\n",
    "    'V': 21,\n",
    "    'W': 22,\n",
    "    'X': 23,\n",
    "    'Y': 24\n",
    "    # 'Z' est exclu\n",
    "}"
   ]
  },
  {
   "cell_type": "code",
   "execution_count": 14,
   "id": "2ac404fa-989e-4d28-9d90-7f10c2faffca",
   "metadata": {},
   "outputs": [],
   "source": [
    "X_train_image = X_train.to_numpy().reshape(X_train.shape[0], image_w, image_h)"
   ]
  },
  {
   "cell_type": "code",
   "execution_count": 15,
   "id": "adebd801-bbdf-4611-a3c9-b359eb7384af",
   "metadata": {},
   "outputs": [
    {
     "data": {
      "text/plain": [
       "(22879, 28, 28)"
      ]
     },
     "execution_count": 15,
     "metadata": {},
     "output_type": "execute_result"
    }
   ],
   "source": [
    "X_train_image.shape"
   ]
  },
  {
   "cell_type": "code",
   "execution_count": 16,
   "id": "6fb16f45-5e75-445a-92d1-91b5e444c214",
   "metadata": {},
   "outputs": [
    {
     "name": "stdout",
     "output_type": "stream",
     "text": [
      "[24  7 17 15 19  4 20 23 21 10  8 18 13 12  2 11 22  3 16  0  1 14  5  6]\n"
     ]
    }
   ],
   "source": [
    "print(y_train.unique())  # Affiche les valeurs uniques de y_train pour comprendre son contenu"
   ]
  },
  {
   "cell_type": "code",
   "execution_count": 17,
   "id": "7779b28c-377a-427e-ab76-8ccc6b6f6476",
   "metadata": {},
   "outputs": [],
   "source": [
    "# Inverser le dictionnaire labels pour obtenir une correspondance de nombre à lettre\n",
    "inv_labels = {v: k for k, v in labels.items()}"
   ]
  },
  {
   "cell_type": "code",
   "execution_count": 18,
   "id": "3f6b4fcf-6113-4d66-ad50-899f1e04dbe5",
   "metadata": {},
   "outputs": [
    {
     "name": "stdout",
     "output_type": "stream",
     "text": [
      "Y\n"
     ]
    },
    {
     "data": {
      "image/png": "[encoded data removed]",
      "text/plain": [
       "<Figure size 640x480 with 1 Axes>"
      ]
     },
     "metadata": {},
     "output_type": "display_data"
    },
    {
     "name": "stdout",
     "output_type": "stream",
     "text": [
      "H\n"
     ]
    },
    {
     "data": {
      "image/png": "[encoded data removed]",
      "text/plain": [
       "<Figure size 640x480 with 1 Axes>"
      ]
     },
     "metadata": {},
     "output_type": "display_data"
    },
    {
     "name": "stdout",
     "output_type": "stream",
     "text": [
      "R\n"
     ]
    },
    {
     "data": {
      "image/png": "[encoded data removed]",
      "text/plain": [
       "<Figure size 640x480 with 1 Axes>"
      ]
     },
     "metadata": {},
     "output_type": "display_data"
    },
    {
     "name": "stdout",
     "output_type": "stream",
     "text": [
      "P\n"
     ]
    },
    {
     "data": {
      "image/png": "[encoded data removed]",
      "text/plain": [
       "<Figure size 640x480 with 1 Axes>"
      ]
     },
     "metadata": {},
     "output_type": "display_data"
    },
    {
     "name": "stdout",
     "output_type": "stream",
     "text": [
      "T\n"
     ]
    },
    {
     "data": {
      "image/png": "[encoded data removed]",
      "text/plain": [
       "<Figure size 640x480 with 1 Axes>"
      ]
     },
     "metadata": {},
     "output_type": "display_data"
    },
    {
     "name": "stdout",
     "output_type": "stream",
     "text": [
      "E\n"
     ]
    },
    {
     "data": {
      "image/png": "[encoded data removed]",
      "text/plain": [
       "<Figure size 640x480 with 1 Axes>"
      ]
     },
     "metadata": {},
     "output_type": "display_data"
    },
    {
     "name": "stdout",
     "output_type": "stream",
     "text": [
      "U\n"
     ]
    },
    {
     "data": {
      "image/png": "[encoded data removed]",
      "text/plain": [
       "<Figure size 640x480 with 1 Axes>"
      ]
     },
     "metadata": {},
     "output_type": "display_data"
    },
    {
     "name": "stdout",
     "output_type": "stream",
     "text": [
      "U\n"
     ]
    },
    {
     "data": {
      "image/png": "[encoded data removed]",
      "text/plain": [
       "<Figure size 640x480 with 1 Axes>"
      ]
     },
     "metadata": {},
     "output_type": "display_data"
    },
    {
     "name": "stdout",
     "output_type": "stream",
     "text": [
      "X\n"
     ]
    },
    {
     "data": {
      "image/png": "[encoded data removed]",
      "text/plain": [
       "<Figure size 640x480 with 1 Axes>"
      ]
     },
     "metadata": {},
     "output_type": "display_data"
    },
    {
     "name": "stdout",
     "output_type": "stream",
     "text": [
      "V\n"
     ]
    },
    {
     "data": {
      "image/png": "[encoded data removed]",
      "text/plain": [
       "<Figure size 640x480 with 1 Axes>"
      ]
     },
     "metadata": {},
     "output_type": "display_data"
    }
   ],
   "source": [
    "plt.gray()\n",
    "for i in range(10):\n",
    "    print(inv_labels[y_train.iloc[i]])  # Utiliser le dictionnaire inversé\n",
    "    plt.imshow(X_train_image[i])\n",
    "    plt.show()"
   ]
  },
  {
   "cell_type": "markdown",
   "id": "954eae68-ce8e-4565-8378-cd5ffa4a18c6",
   "metadata": {},
   "source": [
    "### Ce dataset est-il équilibré ? Est-il nécessaire de rééquilibrer les données ? Le faire si besoin"
   ]
  },
  {
   "cell_type": "code",
   "execution_count": 19,
   "id": "128153b8-cf62-4a31-a4b7-dee2c49e0960",
   "metadata": {},
   "outputs": [
    {
     "name": "stdout",
     "output_type": "stream",
     "text": [
      "label\n",
      "17    1083\n",
      "16    1066\n",
      "11    1047\n",
      "22    1013\n",
      "5     1004\n",
      "14     998\n",
      "18     995\n",
      "3      993\n",
      "19     988\n",
      "8      975\n",
      "20     968\n",
      "2      968\n",
      "23     967\n",
      "13     947\n",
      "10     927\n",
      "0      925\n",
      "24     924\n",
      "6      921\n",
      "15     906\n",
      "21     902\n",
      "12     872\n",
      "7      842\n",
      "1      837\n",
      "4      811\n",
      "Name: count, dtype: int64\n"
     ]
    }
   ],
   "source": [
    "# Compter le nombre d'occurrences de chaque classe\n",
    "class_distribution = y_train.value_counts()\n",
    "print(class_distribution)"
   ]
  },
  {
   "cell_type": "code",
   "execution_count": 20,
   "id": "51b93ff1-96a8-439c-a9b7-44cca7e62522",
   "metadata": {},
   "outputs": [
    {
     "name": "stdout",
     "output_type": "stream",
     "text": [
      "Requirement already satisfied: imbalanced-learn in c:\\users\\anasa\\appdata\\roaming\\jupyterlab-desktop\\jlab_server\\lib\\site-packages (0.12.3)\n",
      "Requirement already satisfied: numpy>=1.17.3 in c:\\users\\anasa\\appdata\\roaming\\jupyterlab-desktop\\jlab_server\\lib\\site-packages (from imbalanced-learn) (1.26.4)\n",
      "Requirement already satisfied: scipy>=1.5.0 in c:\\users\\anasa\\appdata\\roaming\\jupyterlab-desktop\\jlab_server\\lib\\site-packages (from imbalanced-learn) (1.12.0)\n",
      "Requirement already satisfied: scikit-learn>=1.0.2 in c:\\users\\anasa\\appdata\\roaming\\jupyterlab-desktop\\jlab_server\\lib\\site-packages (from imbalanced-learn) (1.4.2)\n",
      "Requirement already satisfied: joblib>=1.1.1 in c:\\users\\anasa\\appdata\\roaming\\jupyterlab-desktop\\jlab_server\\lib\\site-packages (from imbalanced-learn) (1.4.2)\n",
      "Requirement already satisfied: threadpoolctl>=2.0.0 in c:\\users\\anasa\\appdata\\roaming\\jupyterlab-desktop\\jlab_server\\lib\\site-packages (from imbalanced-learn) (3.5.0)\n"
     ]
    }
   ],
   "source": [
    "!pip install imbalanced-learn"
   ]
  },
  {
   "cell_type": "code",
   "execution_count": 21,
   "id": "8e72631f-2500-4085-802b-d77cb7531332",
   "metadata": {},
   "outputs": [
    {
     "name": "stdout",
     "output_type": "stream",
     "text": [
      "Counter({24: 1083, 7: 1083, 17: 1083, 15: 1083, 19: 1083, 4: 1083, 20: 1083, 23: 1083, 21: 1083, 10: 1083, 8: 1083, 18: 1083, 13: 1083, 12: 1083, 2: 1083, 11: 1083, 22: 1083, 3: 1083, 16: 1083, 0: 1083, 1: 1083, 14: 1083, 5: 1083, 6: 1083})\n"
     ]
    }
   ],
   "source": [
    "from imblearn.over_sampling import SMOTE\n",
    "from collections import Counter\n",
    "\n",
    "# Initialiser SMOTE\n",
    "smote = SMOTE(random_state=42)\n",
    "\n",
    "# Appliquer SMOTE sur les données d'entraînement\n",
    "X_train, y_train = smote.fit_resample(X_train, y_train)\n",
    "\n",
    "# Afficher la nouvelle distribution des classes après rééquilibrage\n",
    "print(Counter(y_train))"
   ]
  },
  {
   "cell_type": "markdown",
   "id": "ac1869cf-0143-46fa-8956-562b60d54d62",
   "metadata": {},
   "source": [
    "### Construire un réseau de neurones convolutif pour résoudre ce problème de classification. Il devra contenir au minimum les éléments suivants : couches de convolution, couche de \"pooling\", \"dropout\", couches cachées complètement connectées. Vous êtes libres d'ajouter d'autres éléments"
   ]
  },
  {
   "cell_type": "markdown",
   "id": "902c47cd-b45f-410b-aa37-4e31f837bfdf",
   "metadata": {},
   "source": [
    "### Prétraitement des données"
   ]
  },
  {
   "cell_type": "code",
   "execution_count": 22,
   "id": "0d112b68-c73c-4e01-b94d-e9a510b7a40c",
   "metadata": {},
   "outputs": [],
   "source": [
    "X_train_norm = X_train/255\n",
    "X_val_norm = X_val/255\n",
    "X_test_norm = X_test/255"
   ]
  },
  {
   "cell_type": "code",
   "execution_count": 23,
   "id": "50f266c3-88d8-42f5-8309-e40f98e604df",
   "metadata": {},
   "outputs": [],
   "source": [
    "y_train_cat = to_categorical(y_train, num_classes=25)\n",
    "y_val_cat = to_categorical(y_val, num_classes=25)\n",
    "y_test_cat = to_categorical(y_test, num_classes=25)"
   ]
  },
  {
   "cell_type": "code",
   "execution_count": 24,
   "id": "49a28f99-b065-4dd4-906c-e7266e229143",
   "metadata": {},
   "outputs": [
    {
     "name": "stdout",
     "output_type": "stream",
     "text": [
      "(25992, 25)\n",
      "(4576, 25)\n",
      "(7172, 25)\n"
     ]
    }
   ],
   "source": [
    "print(y_train_cat.shape)\n",
    "print(y_val_cat.shape)\n",
    "print(y_test_cat.shape)"
   ]
  },
  {
   "cell_type": "markdown",
   "id": "b1fb9d7f-1a83-4032-817f-8d6aead6e74d",
   "metadata": {},
   "source": [
    "### Création du modèle de convolution"
   ]
  },
  {
   "cell_type": "code",
   "execution_count": 25,
   "id": "6d5e54ac-6ca6-4238-a625-1f2456b5fa2d",
   "metadata": {},
   "outputs": [],
   "source": [
    "X_train_image = X_train.to_numpy().reshape(X_train.shape[0], image_w, image_h, 1)\n",
    "X_val_image = X_val.to_numpy().reshape(X_val.shape[0], image_w, image_h, 1)\n",
    "X_test_image = X_test.to_numpy().reshape(X_test.shape[0], image_w, image_h, 1)"
   ]
  },
  {
   "cell_type": "code",
   "execution_count": 26,
   "id": "8835bac9-df97-4cdc-b311-53711ab29b02",
   "metadata": {},
   "outputs": [
    {
     "data": {
      "text/plain": [
       "(25992, 28, 28, 1)"
      ]
     },
     "execution_count": 26,
     "metadata": {},
     "output_type": "execute_result"
    }
   ],
   "source": [
    "X_train_image.shape"
   ]
  },
  {
   "cell_type": "code",
   "execution_count": 27,
   "id": "3cbbe9e5-b02a-4563-b441-af56c60eb5da",
   "metadata": {},
   "outputs": [],
   "source": [
    "input_shape = X_train_image.shape[1:]\n",
    "output_dim = y_train_cat.shape[1]"
   ]
  },
  {
   "cell_type": "code",
   "execution_count": 28,
   "id": "596e1d72-dc34-4711-aa14-84c956eeccb0",
   "metadata": {},
   "outputs": [
    {
     "name": "stdout",
     "output_type": "stream",
     "text": [
      "(28, 28, 1)\n",
      "25\n"
     ]
    }
   ],
   "source": [
    "print(input_shape)\n",
    "print(output_dim)"
   ]
  },
  {
   "cell_type": "code",
   "execution_count": 29,
   "id": "8d6c57cd-334e-49a3-8071-b9a4facddd6a",
   "metadata": {},
   "outputs": [],
   "source": [
    "X_train_image_norm = X_train_image/255\n",
    "X_val_image_norm = X_val_image/255\n",
    "X_test_image_norm = X_test_image/255"
   ]
  },
  {
   "cell_type": "code",
   "execution_count": 30,
   "id": "9750dbcc-5b57-49f4-9581-2ca4a5ca034d",
   "metadata": {},
   "outputs": [],
   "source": [
    "def create_cnn_model(activation='relu', optimizer='adam', nb_hidden_layers=2, nb_units=64):\n",
    "    model = Sequential()\n",
    "\n",
    "    model.add(Input(shape=input_shape))\n",
    "\n",
    "    model.add(Conv2D(32, kernel_size=(3, 3), activation=\"relu\", padding=\"same\"))\n",
    "    model.add(MaxPooling2D(pool_size=(2, 2)))\n",
    "    model.add(Dropout(0.25))  \n",
    "\n",
    "    model.add(Conv2D(64, kernel_size=(3, 3), activation=\"relu\", padding=\"same\"))\n",
    "    model.add(MaxPooling2D(pool_size=(2, 2)))\n",
    "    model.add(Dropout(0.25))\n",
    "\n",
    "    model.add(Conv2D(128, kernel_size=(3, 3), activation=\"relu\", padding=\"same\"))\n",
    "    model.add(MaxPooling2D(pool_size=(2, 2)))\n",
    "    model.add(Dropout(0.4))\n",
    "\n",
    "    model.add(Flatten())\n",
    "\n",
    "    model.add(Dense(128, activation=\"relu\"))\n",
    "    model.add(Dropout(0.5))  \n",
    "    model.add(Dense(64, activation=\"relu\"))\n",
    "\n",
    "    model.add(Dense(output_dim, activation=\"softmax\"))\n",
    "\n",
    "    model.compile(optimizer=Adam(), loss=\"categorical_crossentropy\", metrics=[\"categorical_accuracy\"])\n",
    "\n",
    "    model.summary()\n",
    "\n",
    "    return model"
   ]
  },
  {
   "cell_type": "code",
   "execution_count": 31,
   "id": "ae73da78-cc76-435e-a913-557e2ed735da",
   "metadata": {},
   "outputs": [
    {
     "data": {
      "text/html": [
       "<pre style=\"white-space:pre;overflow-x:auto;line-height:normal;font-family:Menlo,'DejaVu Sans Mono',consolas,'Courier New',monospace\"><span style=\"font-weight: bold\">Model: \"sequential\"</span>\n",
       "</pre>\n"
      ],
      "text/plain": [
       "\u001b[1mModel: \"sequential\"\u001b[0m\n"
      ]
     },
     "metadata": {},
     "output_type": "display_data"
    },
    {
     "data": {
      "text/html": [
       "<pre style=\"white-space:pre;overflow-x:auto;line-height:normal;font-family:Menlo,'DejaVu Sans Mono',consolas,'Courier New',monospace\">┏━━━━━━━━━━━━━━━━━━━━━━━━━━━━━━━━━┳━━━━━━━━━━━━━━━━━━━━━━━━┳━━━━━━━━━━━━━━━┓\n",
       "┃<span style=\"font-weight: bold\"> Layer (type)                    </span>┃<span style=\"font-weight: bold\"> Output Shape           </span>┃<span style=\"font-weight: bold\">       Param # </span>┃\n",
       "┡━━━━━━━━━━━━━━━━━━━━━━━━━━━━━━━━━╇━━━━━━━━━━━━━━━━━━━━━━━━╇━━━━━━━━━━━━━━━┩\n",
       "│ conv2d (<span style=\"color: #0087ff; text-decoration-color: #0087ff\">Conv2D</span>)                 │ (<span style=\"color: #00d7ff; text-decoration-color: #00d7ff\">None</span>, <span style=\"color: #00af00; text-decoration-color: #00af00\">28</span>, <span style=\"color: #00af00; text-decoration-color: #00af00\">28</span>, <span style=\"color: #00af00; text-decoration-color: #00af00\">32</span>)     │           <span style=\"color: #00af00; text-decoration-color: #00af00\">320</span> │\n",
       "├─────────────────────────────────┼────────────────────────┼───────────────┤\n",
       "│ max_pooling2d (<span style=\"color: #0087ff; text-decoration-color: #0087ff\">MaxPooling2D</span>)    │ (<span style=\"color: #00d7ff; text-decoration-color: #00d7ff\">None</span>, <span style=\"color: #00af00; text-decoration-color: #00af00\">14</span>, <span style=\"color: #00af00; text-decoration-color: #00af00\">14</span>, <span style=\"color: #00af00; text-decoration-color: #00af00\">32</span>)     │             <span style=\"color: #00af00; text-decoration-color: #00af00\">0</span> │\n",
       "├─────────────────────────────────┼────────────────────────┼───────────────┤\n",
       "│ dropout (<span style=\"color: #0087ff; text-decoration-color: #0087ff\">Dropout</span>)               │ (<span style=\"color: #00d7ff; text-decoration-color: #00d7ff\">None</span>, <span style=\"color: #00af00; text-decoration-color: #00af00\">14</span>, <span style=\"color: #00af00; text-decoration-color: #00af00\">14</span>, <span style=\"color: #00af00; text-decoration-color: #00af00\">32</span>)     │             <span style=\"color: #00af00; text-decoration-color: #00af00\">0</span> │\n",
       "├─────────────────────────────────┼────────────────────────┼───────────────┤\n",
       "│ conv2d_1 (<span style=\"color: #0087ff; text-decoration-color: #0087ff\">Conv2D</span>)               │ (<span style=\"color: #00d7ff; text-decoration-color: #00d7ff\">None</span>, <span style=\"color: #00af00; text-decoration-color: #00af00\">14</span>, <span style=\"color: #00af00; text-decoration-color: #00af00\">14</span>, <span style=\"color: #00af00; text-decoration-color: #00af00\">64</span>)     │        <span style=\"color: #00af00; text-decoration-color: #00af00\">18,496</span> │\n",
       "├─────────────────────────────────┼────────────────────────┼───────────────┤\n",
       "│ max_pooling2d_1 (<span style=\"color: #0087ff; text-decoration-color: #0087ff\">MaxPooling2D</span>)  │ (<span style=\"color: #00d7ff; text-decoration-color: #00d7ff\">None</span>, <span style=\"color: #00af00; text-decoration-color: #00af00\">7</span>, <span style=\"color: #00af00; text-decoration-color: #00af00\">7</span>, <span style=\"color: #00af00; text-decoration-color: #00af00\">64</span>)       │             <span style=\"color: #00af00; text-decoration-color: #00af00\">0</span> │\n",
       "├─────────────────────────────────┼────────────────────────┼───────────────┤\n",
       "│ dropout_1 (<span style=\"color: #0087ff; text-decoration-color: #0087ff\">Dropout</span>)             │ (<span style=\"color: #00d7ff; text-decoration-color: #00d7ff\">None</span>, <span style=\"color: #00af00; text-decoration-color: #00af00\">7</span>, <span style=\"color: #00af00; text-decoration-color: #00af00\">7</span>, <span style=\"color: #00af00; text-decoration-color: #00af00\">64</span>)       │             <span style=\"color: #00af00; text-decoration-color: #00af00\">0</span> │\n",
       "├─────────────────────────────────┼────────────────────────┼───────────────┤\n",
       "│ conv2d_2 (<span style=\"color: #0087ff; text-decoration-color: #0087ff\">Conv2D</span>)               │ (<span style=\"color: #00d7ff; text-decoration-color: #00d7ff\">None</span>, <span style=\"color: #00af00; text-decoration-color: #00af00\">7</span>, <span style=\"color: #00af00; text-decoration-color: #00af00\">7</span>, <span style=\"color: #00af00; text-decoration-color: #00af00\">128</span>)      │        <span style=\"color: #00af00; text-decoration-color: #00af00\">73,856</span> │\n",
       "├─────────────────────────────────┼────────────────────────┼───────────────┤\n",
       "│ max_pooling2d_2 (<span style=\"color: #0087ff; text-decoration-color: #0087ff\">MaxPooling2D</span>)  │ (<span style=\"color: #00d7ff; text-decoration-color: #00d7ff\">None</span>, <span style=\"color: #00af00; text-decoration-color: #00af00\">3</span>, <span style=\"color: #00af00; text-decoration-color: #00af00\">3</span>, <span style=\"color: #00af00; text-decoration-color: #00af00\">128</span>)      │             <span style=\"color: #00af00; text-decoration-color: #00af00\">0</span> │\n",
       "├─────────────────────────────────┼────────────────────────┼───────────────┤\n",
       "│ dropout_2 (<span style=\"color: #0087ff; text-decoration-color: #0087ff\">Dropout</span>)             │ (<span style=\"color: #00d7ff; text-decoration-color: #00d7ff\">None</span>, <span style=\"color: #00af00; text-decoration-color: #00af00\">3</span>, <span style=\"color: #00af00; text-decoration-color: #00af00\">3</span>, <span style=\"color: #00af00; text-decoration-color: #00af00\">128</span>)      │             <span style=\"color: #00af00; text-decoration-color: #00af00\">0</span> │\n",
       "├─────────────────────────────────┼────────────────────────┼───────────────┤\n",
       "│ flatten (<span style=\"color: #0087ff; text-decoration-color: #0087ff\">Flatten</span>)               │ (<span style=\"color: #00d7ff; text-decoration-color: #00d7ff\">None</span>, <span style=\"color: #00af00; text-decoration-color: #00af00\">1152</span>)           │             <span style=\"color: #00af00; text-decoration-color: #00af00\">0</span> │\n",
       "├─────────────────────────────────┼────────────────────────┼───────────────┤\n",
       "│ dense (<span style=\"color: #0087ff; text-decoration-color: #0087ff\">Dense</span>)                   │ (<span style=\"color: #00d7ff; text-decoration-color: #00d7ff\">None</span>, <span style=\"color: #00af00; text-decoration-color: #00af00\">128</span>)            │       <span style=\"color: #00af00; text-decoration-color: #00af00\">147,584</span> │\n",
       "├─────────────────────────────────┼────────────────────────┼───────────────┤\n",
       "│ dropout_3 (<span style=\"color: #0087ff; text-decoration-color: #0087ff\">Dropout</span>)             │ (<span style=\"color: #00d7ff; text-decoration-color: #00d7ff\">None</span>, <span style=\"color: #00af00; text-decoration-color: #00af00\">128</span>)            │             <span style=\"color: #00af00; text-decoration-color: #00af00\">0</span> │\n",
       "├─────────────────────────────────┼────────────────────────┼───────────────┤\n",
       "│ dense_1 (<span style=\"color: #0087ff; text-decoration-color: #0087ff\">Dense</span>)                 │ (<span style=\"color: #00d7ff; text-decoration-color: #00d7ff\">None</span>, <span style=\"color: #00af00; text-decoration-color: #00af00\">64</span>)             │         <span style=\"color: #00af00; text-decoration-color: #00af00\">8,256</span> │\n",
       "├─────────────────────────────────┼────────────────────────┼───────────────┤\n",
       "│ dense_2 (<span style=\"color: #0087ff; text-decoration-color: #0087ff\">Dense</span>)                 │ (<span style=\"color: #00d7ff; text-decoration-color: #00d7ff\">None</span>, <span style=\"color: #00af00; text-decoration-color: #00af00\">25</span>)             │         <span style=\"color: #00af00; text-decoration-color: #00af00\">1,625</span> │\n",
       "└─────────────────────────────────┴────────────────────────┴───────────────┘\n",
       "</pre>\n"
      ],
      "text/plain": [
       "┏━━━━━━━━━━━━━━━━━━━━━━━━━━━━━━━━━┳━━━━━━━━━━━━━━━━━━━━━━━━┳━━━━━━━━━━━━━━━┓\n",
       "┃\u001b[1m \u001b[0m\u001b[1mLayer (type)                   \u001b[0m\u001b[1m \u001b[0m┃\u001b[1m \u001b[0m\u001b[1mOutput Shape          \u001b[0m\u001b[1m \u001b[0m┃\u001b[1m \u001b[0m\u001b[1m      Param #\u001b[0m\u001b[1m \u001b[0m┃\n",
       "┡━━━━━━━━━━━━━━━━━━━━━━━━━━━━━━━━━╇━━━━━━━━━━━━━━━━━━━━━━━━╇━━━━━━━━━━━━━━━┩\n",
       "│ conv2d (\u001b[38;5;33mConv2D\u001b[0m)                 │ (\u001b[38;5;45mNone\u001b[0m, \u001b[38;5;34m28\u001b[0m, \u001b[38;5;34m28\u001b[0m, \u001b[38;5;34m32\u001b[0m)     │           \u001b[38;5;34m320\u001b[0m │\n",
       "├─────────────────────────────────┼────────────────────────┼───────────────┤\n",
       "│ max_pooling2d (\u001b[38;5;33mMaxPooling2D\u001b[0m)    │ (\u001b[38;5;45mNone\u001b[0m, \u001b[38;5;34m14\u001b[0m, \u001b[38;5;34m14\u001b[0m, \u001b[38;5;34m32\u001b[0m)     │             \u001b[38;5;34m0\u001b[0m │\n",
       "├─────────────────────────────────┼────────────────────────┼───────────────┤\n",
       "│ dropout (\u001b[38;5;33mDropout\u001b[0m)               │ (\u001b[38;5;45mNone\u001b[0m, \u001b[38;5;34m14\u001b[0m, \u001b[38;5;34m14\u001b[0m, \u001b[38;5;34m32\u001b[0m)     │             \u001b[38;5;34m0\u001b[0m │\n",
       "├─────────────────────────────────┼────────────────────────┼───────────────┤\n",
       "│ conv2d_1 (\u001b[38;5;33mConv2D\u001b[0m)               │ (\u001b[38;5;45mNone\u001b[0m, \u001b[38;5;34m14\u001b[0m, \u001b[38;5;34m14\u001b[0m, \u001b[38;5;34m64\u001b[0m)     │        \u001b[38;5;34m18,496\u001b[0m │\n",
       "├─────────────────────────────────┼────────────────────────┼───────────────┤\n",
       "│ max_pooling2d_1 (\u001b[38;5;33mMaxPooling2D\u001b[0m)  │ (\u001b[38;5;45mNone\u001b[0m, \u001b[38;5;34m7\u001b[0m, \u001b[38;5;34m7\u001b[0m, \u001b[38;5;34m64\u001b[0m)       │             \u001b[38;5;34m0\u001b[0m │\n",
       "├─────────────────────────────────┼────────────────────────┼───────────────┤\n",
       "│ dropout_1 (\u001b[38;5;33mDropout\u001b[0m)             │ (\u001b[38;5;45mNone\u001b[0m, \u001b[38;5;34m7\u001b[0m, \u001b[38;5;34m7\u001b[0m, \u001b[38;5;34m64\u001b[0m)       │             \u001b[38;5;34m0\u001b[0m │\n",
       "├─────────────────────────────────┼────────────────────────┼───────────────┤\n",
       "│ conv2d_2 (\u001b[38;5;33mConv2D\u001b[0m)               │ (\u001b[38;5;45mNone\u001b[0m, \u001b[38;5;34m7\u001b[0m, \u001b[38;5;34m7\u001b[0m, \u001b[38;5;34m128\u001b[0m)      │        \u001b[38;5;34m73,856\u001b[0m │\n",
       "├─────────────────────────────────┼────────────────────────┼───────────────┤\n",
       "│ max_pooling2d_2 (\u001b[38;5;33mMaxPooling2D\u001b[0m)  │ (\u001b[38;5;45mNone\u001b[0m, \u001b[38;5;34m3\u001b[0m, \u001b[38;5;34m3\u001b[0m, \u001b[38;5;34m128\u001b[0m)      │             \u001b[38;5;34m0\u001b[0m │\n",
       "├─────────────────────────────────┼────────────────────────┼───────────────┤\n",
       "│ dropout_2 (\u001b[38;5;33mDropout\u001b[0m)             │ (\u001b[38;5;45mNone\u001b[0m, \u001b[38;5;34m3\u001b[0m, \u001b[38;5;34m3\u001b[0m, \u001b[38;5;34m128\u001b[0m)      │             \u001b[38;5;34m0\u001b[0m │\n",
       "├─────────────────────────────────┼────────────────────────┼───────────────┤\n",
       "│ flatten (\u001b[38;5;33mFlatten\u001b[0m)               │ (\u001b[38;5;45mNone\u001b[0m, \u001b[38;5;34m1152\u001b[0m)           │             \u001b[38;5;34m0\u001b[0m │\n",
       "├─────────────────────────────────┼────────────────────────┼───────────────┤\n",
       "│ dense (\u001b[38;5;33mDense\u001b[0m)                   │ (\u001b[38;5;45mNone\u001b[0m, \u001b[38;5;34m128\u001b[0m)            │       \u001b[38;5;34m147,584\u001b[0m │\n",
       "├─────────────────────────────────┼────────────────────────┼───────────────┤\n",
       "│ dropout_3 (\u001b[38;5;33mDropout\u001b[0m)             │ (\u001b[38;5;45mNone\u001b[0m, \u001b[38;5;34m128\u001b[0m)            │             \u001b[38;5;34m0\u001b[0m │\n",
       "├─────────────────────────────────┼────────────────────────┼───────────────┤\n",
       "│ dense_1 (\u001b[38;5;33mDense\u001b[0m)                 │ (\u001b[38;5;45mNone\u001b[0m, \u001b[38;5;34m64\u001b[0m)             │         \u001b[38;5;34m8,256\u001b[0m │\n",
       "├─────────────────────────────────┼────────────────────────┼───────────────┤\n",
       "│ dense_2 (\u001b[38;5;33mDense\u001b[0m)                 │ (\u001b[38;5;45mNone\u001b[0m, \u001b[38;5;34m25\u001b[0m)             │         \u001b[38;5;34m1,625\u001b[0m │\n",
       "└─────────────────────────────────┴────────────────────────┴───────────────┘\n"
      ]
     },
     "metadata": {},
     "output_type": "display_data"
    },
    {
     "data": {
      "text/html": [
       "<pre style=\"white-space:pre;overflow-x:auto;line-height:normal;font-family:Menlo,'DejaVu Sans Mono',consolas,'Courier New',monospace\"><span style=\"font-weight: bold\"> Total params: </span><span style=\"color: #00af00; text-decoration-color: #00af00\">250,137</span> (977.10 KB)\n",
       "</pre>\n"
      ],
      "text/plain": [
       "\u001b[1m Total params: \u001b[0m\u001b[38;5;34m250,137\u001b[0m (977.10 KB)\n"
      ]
     },
     "metadata": {},
     "output_type": "display_data"
    },
    {
     "data": {
      "text/html": [
       "<pre style=\"white-space:pre;overflow-x:auto;line-height:normal;font-family:Menlo,'DejaVu Sans Mono',consolas,'Courier New',monospace\"><span style=\"font-weight: bold\"> Trainable params: </span><span style=\"color: #00af00; text-decoration-color: #00af00\">250,137</span> (977.10 KB)\n",
       "</pre>\n"
      ],
      "text/plain": [
       "\u001b[1m Trainable params: \u001b[0m\u001b[38;5;34m250,137\u001b[0m (977.10 KB)\n"
      ]
     },
     "metadata": {},
     "output_type": "display_data"
    },
    {
     "data": {
      "text/html": [
       "<pre style=\"white-space:pre;overflow-x:auto;line-height:normal;font-family:Menlo,'DejaVu Sans Mono',consolas,'Courier New',monospace\"><span style=\"font-weight: bold\"> Non-trainable params: </span><span style=\"color: #00af00; text-decoration-color: #00af00\">0</span> (0.00 B)\n",
       "</pre>\n"
      ],
      "text/plain": [
       "\u001b[1m Non-trainable params: \u001b[0m\u001b[38;5;34m0\u001b[0m (0.00 B)\n"
      ]
     },
     "metadata": {},
     "output_type": "display_data"
    }
   ],
   "source": [
    "model_cnn = create_cnn_model(activation='relu', optimizer='adam', nb_hidden_layers=2, nb_units=64)"
   ]
  },
  {
   "cell_type": "code",
   "execution_count": 32,
   "id": "21283f45-f5ea-45d7-bb79-370627e29371",
   "metadata": {},
   "outputs": [],
   "source": [
    "nb_epochs = 50"
   ]
  },
  {
   "cell_type": "markdown",
   "id": "d77e705c-fe4b-411b-82d4-a26c70a21f57",
   "metadata": {},
   "source": [
    "### Entraîner le modèle construit à la question précédente et mesurer sa performance"
   ]
  },
  {
   "cell_type": "code",
   "execution_count": 33,
   "id": "85dbac76-835e-4f5c-84dd-8055b2348e81",
   "metadata": {},
   "outputs": [
    {
     "name": "stdout",
     "output_type": "stream",
     "text": [
      "Epoch 1/50\n",
      "\u001b[1m813/813\u001b[0m \u001b[32m━━━━━━━━━━━━━━━━━━━━\u001b[0m\u001b[37m\u001b[0m \u001b[1m19s\u001b[0m 20ms/step - categorical_accuracy: 0.1304 - loss: 2.8528 - val_categorical_accuracy: 0.8590 - val_loss: 0.5267\n",
      "Epoch 2/50\n",
      "\u001b[1m813/813\u001b[0m \u001b[32m━━━━━━━━━━━━━━━━━━━━\u001b[0m\u001b[37m\u001b[0m \u001b[1m16s\u001b[0m 19ms/step - categorical_accuracy: 0.7392 - loss: 0.7399 - val_categorical_accuracy: 0.9771 - val_loss: 0.1213\n",
      "Epoch 3/50\n",
      "\u001b[1m813/813\u001b[0m \u001b[32m━━━━━━━━━━━━━━━━━━━━\u001b[0m\u001b[37m\u001b[0m \u001b[1m16s\u001b[0m 19ms/step - categorical_accuracy: 0.8632 - loss: 0.3908 - val_categorical_accuracy: 0.9919 - val_loss: 0.0456\n",
      "Epoch 4/50\n",
      "\u001b[1m813/813\u001b[0m \u001b[32m━━━━━━━━━━━━━━━━━━━━\u001b[0m\u001b[37m\u001b[0m \u001b[1m16s\u001b[0m 19ms/step - categorical_accuracy: 0.9136 - loss: 0.2542 - val_categorical_accuracy: 0.9996 - val_loss: 0.0109\n",
      "Epoch 5/50\n",
      "\u001b[1m813/813\u001b[0m \u001b[32m━━━━━━━━━━━━━━━━━━━━\u001b[0m\u001b[37m\u001b[0m \u001b[1m17s\u001b[0m 21ms/step - categorical_accuracy: 0.9420 - loss: 0.1690 - val_categorical_accuracy: 0.9993 - val_loss: 0.0078\n",
      "Epoch 6/50\n",
      "\u001b[1m813/813\u001b[0m \u001b[32m━━━━━━━━━━━━━━━━━━━━\u001b[0m\u001b[37m\u001b[0m \u001b[1m16s\u001b[0m 20ms/step - categorical_accuracy: 0.9562 - loss: 0.1317 - val_categorical_accuracy: 0.9989 - val_loss: 0.0059\n",
      "Epoch 7/50\n",
      "\u001b[1m813/813\u001b[0m \u001b[32m━━━━━━━━━━━━━━━━━━━━\u001b[0m\u001b[37m\u001b[0m \u001b[1m16s\u001b[0m 20ms/step - categorical_accuracy: 0.9617 - loss: 0.1185 - val_categorical_accuracy: 1.0000 - val_loss: 9.8250e-04\n",
      "Epoch 8/50\n",
      "\u001b[1m813/813\u001b[0m \u001b[32m━━━━━━━━━━━━━━━━━━━━\u001b[0m\u001b[37m\u001b[0m \u001b[1m16s\u001b[0m 19ms/step - categorical_accuracy: 0.9674 - loss: 0.1019 - val_categorical_accuracy: 1.0000 - val_loss: 4.2531e-04\n",
      "Epoch 9/50\n",
      "\u001b[1m813/813\u001b[0m \u001b[32m━━━━━━━━━━━━━━━━━━━━\u001b[0m\u001b[37m\u001b[0m \u001b[1m16s\u001b[0m 20ms/step - categorical_accuracy: 0.9714 - loss: 0.0869 - val_categorical_accuracy: 0.9998 - val_loss: 0.0013\n",
      "Epoch 10/50\n",
      "\u001b[1m813/813\u001b[0m \u001b[32m━━━━━━━━━━━━━━━━━━━━\u001b[0m\u001b[37m\u001b[0m \u001b[1m16s\u001b[0m 20ms/step - categorical_accuracy: 0.9722 - loss: 0.0815 - val_categorical_accuracy: 1.0000 - val_loss: 4.3157e-04\n",
      "Epoch 11/50\n",
      "\u001b[1m813/813\u001b[0m \u001b[32m━━━━━━━━━━━━━━━━━━━━\u001b[0m\u001b[37m\u001b[0m \u001b[1m16s\u001b[0m 20ms/step - categorical_accuracy: 0.9732 - loss: 0.0793 - val_categorical_accuracy: 1.0000 - val_loss: 3.5599e-04\n",
      "Epoch 12/50\n",
      "\u001b[1m813/813\u001b[0m \u001b[32m━━━━━━━━━━━━━━━━━━━━\u001b[0m\u001b[37m\u001b[0m \u001b[1m16s\u001b[0m 20ms/step - categorical_accuracy: 0.9738 - loss: 0.0788 - val_categorical_accuracy: 1.0000 - val_loss: 1.3619e-04\n",
      "Epoch 13/50\n",
      "\u001b[1m813/813\u001b[0m \u001b[32m━━━━━━━━━━━━━━━━━━━━\u001b[0m\u001b[37m\u001b[0m \u001b[1m16s\u001b[0m 20ms/step - categorical_accuracy: 0.9763 - loss: 0.0749 - val_categorical_accuracy: 1.0000 - val_loss: 5.0121e-05\n",
      "Epoch 14/50\n",
      "\u001b[1m813/813\u001b[0m \u001b[32m━━━━━━━━━━━━━━━━━━━━\u001b[0m\u001b[37m\u001b[0m \u001b[1m16s\u001b[0m 20ms/step - categorical_accuracy: 0.9808 - loss: 0.0633 - val_categorical_accuracy: 1.0000 - val_loss: 4.3160e-05\n",
      "Epoch 15/50\n",
      "\u001b[1m813/813\u001b[0m \u001b[32m━━━━━━━━━━━━━━━━━━━━\u001b[0m\u001b[37m\u001b[0m \u001b[1m16s\u001b[0m 20ms/step - categorical_accuracy: 0.9802 - loss: 0.0590 - val_categorical_accuracy: 1.0000 - val_loss: 3.0494e-04\n",
      "Epoch 16/50\n",
      "\u001b[1m813/813\u001b[0m \u001b[32m━━━━━━━━━━━━━━━━━━━━\u001b[0m\u001b[37m\u001b[0m \u001b[1m16s\u001b[0m 20ms/step - categorical_accuracy: 0.9804 - loss: 0.0644 - val_categorical_accuracy: 1.0000 - val_loss: 4.1746e-05\n",
      "Epoch 17/50\n",
      "\u001b[1m813/813\u001b[0m \u001b[32m━━━━━━━━━━━━━━━━━━━━\u001b[0m\u001b[37m\u001b[0m \u001b[1m17s\u001b[0m 21ms/step - categorical_accuracy: 0.9806 - loss: 0.0608 - val_categorical_accuracy: 1.0000 - val_loss: 3.5827e-05\n",
      "Epoch 18/50\n",
      "\u001b[1m813/813\u001b[0m \u001b[32m━━━━━━━━━━━━━━━━━━━━\u001b[0m\u001b[37m\u001b[0m \u001b[1m17s\u001b[0m 21ms/step - categorical_accuracy: 0.9841 - loss: 0.0488 - val_categorical_accuracy: 1.0000 - val_loss: 1.2387e-05\n",
      "Epoch 19/50\n",
      "\u001b[1m813/813\u001b[0m \u001b[32m━━━━━━━━━━━━━━━━━━━━\u001b[0m\u001b[37m\u001b[0m \u001b[1m17s\u001b[0m 21ms/step - categorical_accuracy: 0.9838 - loss: 0.0495 - val_categorical_accuracy: 1.0000 - val_loss: 1.3797e-05\n",
      "Epoch 20/50\n",
      "\u001b[1m813/813\u001b[0m \u001b[32m━━━━━━━━━━━━━━━━━━━━\u001b[0m\u001b[37m\u001b[0m \u001b[1m17s\u001b[0m 21ms/step - categorical_accuracy: 0.9851 - loss: 0.0458 - val_categorical_accuracy: 1.0000 - val_loss: 1.3130e-05\n",
      "Epoch 21/50\n",
      "\u001b[1m813/813\u001b[0m \u001b[32m━━━━━━━━━━━━━━━━━━━━\u001b[0m\u001b[37m\u001b[0m \u001b[1m17s\u001b[0m 21ms/step - categorical_accuracy: 0.9824 - loss: 0.0560 - val_categorical_accuracy: 1.0000 - val_loss: 7.2383e-05\n"
     ]
    }
   ],
   "source": [
    "history_cnn = model_cnn.fit(\n",
    "    X_train_image_norm,\n",
    "    y_train_cat,\n",
    "    epochs=nb_epochs,\n",
    "    validation_data=(X_val_image_norm, y_val_cat),\n",
    "    callbacks=[EarlyStopping(patience=3)]\n",
    ")"
   ]
  },
  {
   "cell_type": "code",
   "execution_count": 34,
   "id": "32d8e6e8-caee-4a97-8907-02e7b852a2b5",
   "metadata": {},
   "outputs": [],
   "source": [
    "def plot_history(history):\n",
    "    fig, axes = plt.subplots(1,2, figsize=(15,6))\n",
    "    hist_data = history.history\n",
    "    hist_data[\"epochs\"] = list(range(1, len(history.history[\"loss\"])+1))\n",
    "\n",
    "    hist_data = pd.DataFrame(hist_data)\n",
    "    sns.lineplot(data=hist_data, x=\"epochs\", y=\"loss\", ax=axes[0], color = \"blue\")\n",
    "    sns.lineplot(data=hist_data, x=\"epochs\", y=\"val_loss\", ax=axes[0], color = \"orange\")\n",
    "\n",
    "    sns.lineplot(data=hist_data, x=\"epochs\", y=\"categorical_accuracy\", ax=axes[1], color = \"blue\")\n",
    "    sns.lineplot(data=hist_data, x=\"epochs\", y=\"val_categorical_accuracy\", ax=axes[1], color = \"orange\")"
   ]
  },
  {
   "cell_type": "code",
   "execution_count": 35,
   "id": "99008bf7-dea7-4a71-8511-49e8cdae61ea",
   "metadata": {},
   "outputs": [
    {
     "data": {
      "image/png": "[encoded data removed]",
      "text/plain": [
       "<Figure size 1500x600 with 2 Axes>"
      ]
     },
     "metadata": {},
     "output_type": "display_data"
    }
   ],
   "source": [
    "plot_history(history_cnn)"
   ]
  },
  {
   "cell_type": "markdown",
   "id": "2194e7c1-5cd8-4fca-be48-e4da09433668",
   "metadata": {},
   "source": [
    "### Evaluation du modèle"
   ]
  },
  {
   "cell_type": "code",
   "execution_count": 36,
   "id": "38e6f9be-0542-43ae-8239-9afd34cd32d7",
   "metadata": {},
   "outputs": [
    {
     "name": "stdout",
     "output_type": "stream",
     "text": [
      "\u001b[1m225/225\u001b[0m \u001b[32m━━━━━━━━━━━━━━━━━━━━\u001b[0m\u001b[37m\u001b[0m \u001b[1m2s\u001b[0m 6ms/step - categorical_accuracy: 0.9706 - loss: 0.1324\n",
      "Loss: 0.11798509210348129\n",
      "Accuracy: 0.9712771773338318\n"
     ]
    }
   ],
   "source": [
    "loss, accuracy = model_cnn.evaluate(X_test_image_norm, y_test_cat)\n",
    "print(f\"Loss: {loss}\")\n",
    "print(f\"Accuracy: {accuracy}\")"
   ]
  },
  {
   "cell_type": "code",
   "execution_count": 37,
   "id": "42432810-fd17-43d7-beee-3e5a620e6588",
   "metadata": {},
   "outputs": [
    {
     "name": "stdout",
     "output_type": "stream",
     "text": [
      "\u001b[1m225/225\u001b[0m \u001b[32m━━━━━━━━━━━━━━━━━━━━\u001b[0m\u001b[37m\u001b[0m \u001b[1m2s\u001b[0m 6ms/step\n"
     ]
    }
   ],
   "source": [
    "y_pred = model_cnn.predict(X_test_image_norm)"
   ]
  },
  {
   "cell_type": "code",
   "execution_count": 38,
   "id": "67f6aa87-9521-4cc8-b878-681d35f18599",
   "metadata": {},
   "outputs": [],
   "source": [
    "y_pred_final = np.argmax(y_pred,axis=1)+1\n",
    "y_test_final = np.argmax(y_test_cat,axis=1)+1"
   ]
  },
  {
   "cell_type": "code",
   "execution_count": 39,
   "id": "c59c06e4-631e-48b1-a76f-eb0326b38c11",
   "metadata": {},
   "outputs": [
    {
     "data": {
      "text/plain": [
       "0.3318460680423871"
      ]
     },
     "execution_count": 39,
     "metadata": {},
     "output_type": "execute_result"
    }
   ],
   "source": [
    "mean_absolute_error(y_pred_final, y_test_final)"
   ]
  },
  {
   "cell_type": "markdown",
   "id": "9c0eccb0-3e5a-448f-9cc2-3e7c2a001b96",
   "metadata": {},
   "source": [
    "### Faire une recherche de meilleurs hyperparamètres avec la fonction \"GridSearchCV\""
   ]
  },
  {
   "cell_type": "code",
   "execution_count": 40,
   "id": "cbe89f1c-0b3d-46a5-a039-ed0e1194ea21",
   "metadata": {},
   "outputs": [
    {
     "name": "stdout",
     "output_type": "stream",
     "text": [
      "Requirement already satisfied: scikeras in c:\\users\\anasa\\appdata\\roaming\\jupyterlab-desktop\\jlab_server\\lib\\site-packages (0.13.0)\n",
      "Requirement already satisfied: keras>=3.2.0 in c:\\users\\anasa\\appdata\\roaming\\jupyterlab-desktop\\jlab_server\\lib\\site-packages (from scikeras) (3.3.3)\n",
      "Requirement already satisfied: scikit-learn>=1.4.2 in c:\\users\\anasa\\appdata\\roaming\\jupyterlab-desktop\\jlab_server\\lib\\site-packages (from scikeras) (1.4.2)\n",
      "Requirement already satisfied: absl-py in c:\\users\\anasa\\appdata\\roaming\\jupyterlab-desktop\\jlab_server\\lib\\site-packages (from keras>=3.2.0->scikeras) (2.1.0)\n",
      "Requirement already satisfied: numpy in c:\\users\\anasa\\appdata\\roaming\\jupyterlab-desktop\\jlab_server\\lib\\site-packages (from keras>=3.2.0->scikeras) (1.26.4)\n",
      "Requirement already satisfied: rich in c:\\users\\anasa\\appdata\\roaming\\jupyterlab-desktop\\jlab_server\\lib\\site-packages (from keras>=3.2.0->scikeras) (13.7.1)\n",
      "Requirement already satisfied: namex in c:\\users\\anasa\\appdata\\roaming\\jupyterlab-desktop\\jlab_server\\lib\\site-packages (from keras>=3.2.0->scikeras) (0.0.8)\n",
      "Requirement already satisfied: h5py in c:\\users\\anasa\\appdata\\roaming\\jupyterlab-desktop\\jlab_server\\lib\\site-packages (from keras>=3.2.0->scikeras) (3.11.0)\n",
      "Requirement already satisfied: optree in c:\\users\\anasa\\appdata\\roaming\\jupyterlab-desktop\\jlab_server\\lib\\site-packages (from keras>=3.2.0->scikeras) (0.11.0)\n",
      "Requirement already satisfied: ml-dtypes in c:\\users\\anasa\\appdata\\roaming\\jupyterlab-desktop\\jlab_server\\lib\\site-packages (from keras>=3.2.0->scikeras) (0.3.2)\n",
      "Requirement already satisfied: scipy>=1.6.0 in c:\\users\\anasa\\appdata\\roaming\\jupyterlab-desktop\\jlab_server\\lib\\site-packages (from scikit-learn>=1.4.2->scikeras) (1.12.0)\n",
      "Requirement already satisfied: joblib>=1.2.0 in c:\\users\\anasa\\appdata\\roaming\\jupyterlab-desktop\\jlab_server\\lib\\site-packages (from scikit-learn>=1.4.2->scikeras) (1.4.2)\n",
      "Requirement already satisfied: threadpoolctl>=2.0.0 in c:\\users\\anasa\\appdata\\roaming\\jupyterlab-desktop\\jlab_server\\lib\\site-packages (from scikit-learn>=1.4.2->scikeras) (3.5.0)\n",
      "Requirement already satisfied: typing-extensions>=4.0.0 in c:\\users\\anasa\\appdata\\roaming\\jupyterlab-desktop\\jlab_server\\lib\\site-packages (from optree->keras>=3.2.0->scikeras) (4.10.0)\n",
      "Requirement already satisfied: markdown-it-py>=2.2.0 in c:\\users\\anasa\\appdata\\roaming\\jupyterlab-desktop\\jlab_server\\lib\\site-packages (from rich->keras>=3.2.0->scikeras) (3.0.0)\n",
      "Requirement already satisfied: pygments<3.0.0,>=2.13.0 in c:\\users\\anasa\\appdata\\roaming\\python\\python312\\site-packages (from rich->keras>=3.2.0->scikeras) (2.17.2)\n",
      "Requirement already satisfied: mdurl~=0.1 in c:\\users\\anasa\\appdata\\roaming\\jupyterlab-desktop\\jlab_server\\lib\\site-packages (from markdown-it-py>=2.2.0->rich->keras>=3.2.0->scikeras) (0.1.2)\n"
     ]
    }
   ],
   "source": [
    "!pip install scikeras"
   ]
  },
  {
   "cell_type": "code",
   "execution_count": 41,
   "id": "5b058908-a0fa-44df-ae02-4c7ba7c47aaa",
   "metadata": {},
   "outputs": [],
   "source": [
    "from sklearn.model_selection import GridSearchCV\n",
    "from scikeras.wrappers import KerasClassifier"
   ]
  },
  {
   "cell_type": "code",
   "execution_count": 42,
   "id": "dcda6bb9-419b-441f-a2a3-8503ac5c79ad",
   "metadata": {},
   "outputs": [],
   "source": [
    "def create_cnn_model_2(activation='relu', optimizer='adam', nb_units=64):\n",
    "    model = Sequential()\n",
    "\n",
    "    model.add(Input(shape=input_shape))\n",
    "\n",
    "    model.add(Conv2D(nb_units//2, kernel_size=(3, 3), activation=activation, padding=\"same\"))\n",
    "    model.add(MaxPooling2D(pool_size=(2, 2)))\n",
    "    model.add(Dropout(0.25))  \n",
    "\n",
    "    model.add(Conv2D(nb_units, kernel_size=(3, 3), activation=activation, padding=\"same\"))\n",
    "    model.add(MaxPooling2D(pool_size=(2, 2)))\n",
    "    model.add(Dropout(0.25))\n",
    "\n",
    "    model.add(Conv2D(nb_units*2, kernel_size=(3, 3), activation=activation, padding=\"same\"))\n",
    "    model.add(MaxPooling2D(pool_size=(2, 2)))\n",
    "    model.add(Dropout(0.4))\n",
    "\n",
    "    model.add(Flatten())\n",
    "\n",
    "    model.add(Dense(128, activation=activation))\n",
    "    model.add(Dropout(0.5))  \n",
    "    model.add(Dense(64, activation=activation))\n",
    "\n",
    "    model.add(Dense(output_dim, activation=\"softmax\"))\n",
    "\n",
    "    model.compile(optimizer=optimizer, loss=\"categorical_crossentropy\", metrics=[\"categorical_accuracy\"])\n",
    "\n",
    "    return model"
   ]
  },
  {
   "cell_type": "code",
   "execution_count": 43,
   "id": "0dd049ce-4910-4576-b4cd-5290432aa5bf",
   "metadata": {},
   "outputs": [],
   "source": [
    "hyperparameters = {\n",
    "    'model__activation': ['relu', 'sigmoid'],\n",
    "    'model__optimizer': ['adam', 'rmsprop'],\n",
    "    'model__nb_units': [64, 128]\n",
    "}"
   ]
  },
  {
   "cell_type": "code",
   "execution_count": 44,
   "id": "704cafc0-57e6-4ced-a937-27a29c5043c5",
   "metadata": {},
   "outputs": [],
   "source": [
    "model = KerasClassifier(build_fn=create_cnn_model_2, verbose=0)"
   ]
  },
  {
   "cell_type": "code",
   "execution_count": 45,
   "id": "577358a5-cdb4-472d-a811-9b06c6fc8c86",
   "metadata": {},
   "outputs": [],
   "source": [
    "grid = GridSearchCV(estimator=model, param_grid=hyperparameters, cv=2)"
   ]
  },
  {
   "cell_type": "code",
   "execution_count": 46,
   "id": "644d755c-f972-4149-935e-1ac6d3392a5d",
   "metadata": {
    "scrolled": true
   },
   "outputs": [
    {
     "name": "stderr",
     "output_type": "stream",
     "text": [
      "C:\\Users\\anasa\\AppData\\Roaming\\jupyterlab-desktop\\jlab_server\\Lib\\site-packages\\scikeras\\wrappers.py:925: UserWarning: ``build_fn`` will be renamed to ``model`` in a future release, at which point use of ``build_fn`` will raise an Error instead.\n",
      "  X, y = self._initialize(X, y)\n",
      "C:\\Users\\anasa\\AppData\\Roaming\\jupyterlab-desktop\\jlab_server\\Lib\\site-packages\\scikeras\\wrappers.py:925: UserWarning: ``build_fn`` will be renamed to ``model`` in a future release, at which point use of ``build_fn`` will raise an Error instead.\n",
      "  X, y = self._initialize(X, y)\n",
      "C:\\Users\\anasa\\AppData\\Roaming\\jupyterlab-desktop\\jlab_server\\Lib\\site-packages\\scikeras\\wrappers.py:925: UserWarning: ``build_fn`` will be renamed to ``model`` in a future release, at which point use of ``build_fn`` will raise an Error instead.\n",
      "  X, y = self._initialize(X, y)\n",
      "C:\\Users\\anasa\\AppData\\Roaming\\jupyterlab-desktop\\jlab_server\\Lib\\site-packages\\scikeras\\wrappers.py:925: UserWarning: ``build_fn`` will be renamed to ``model`` in a future release, at which point use of ``build_fn`` will raise an Error instead.\n",
      "  X, y = self._initialize(X, y)\n",
      "C:\\Users\\anasa\\AppData\\Roaming\\jupyterlab-desktop\\jlab_server\\Lib\\site-packages\\scikeras\\wrappers.py:925: UserWarning: ``build_fn`` will be renamed to ``model`` in a future release, at which point use of ``build_fn`` will raise an Error instead.\n",
      "  X, y = self._initialize(X, y)\n",
      "C:\\Users\\anasa\\AppData\\Roaming\\jupyterlab-desktop\\jlab_server\\Lib\\site-packages\\scikeras\\wrappers.py:925: UserWarning: ``build_fn`` will be renamed to ``model`` in a future release, at which point use of ``build_fn`` will raise an Error instead.\n",
      "  X, y = self._initialize(X, y)\n",
      "C:\\Users\\anasa\\AppData\\Roaming\\jupyterlab-desktop\\jlab_server\\Lib\\site-packages\\scikeras\\wrappers.py:925: UserWarning: ``build_fn`` will be renamed to ``model`` in a future release, at which point use of ``build_fn`` will raise an Error instead.\n",
      "  X, y = self._initialize(X, y)\n",
      "C:\\Users\\anasa\\AppData\\Roaming\\jupyterlab-desktop\\jlab_server\\Lib\\site-packages\\scikeras\\wrappers.py:925: UserWarning: ``build_fn`` will be renamed to ``model`` in a future release, at which point use of ``build_fn`` will raise an Error instead.\n",
      "  X, y = self._initialize(X, y)\n",
      "C:\\Users\\anasa\\AppData\\Roaming\\jupyterlab-desktop\\jlab_server\\Lib\\site-packages\\scikeras\\wrappers.py:925: UserWarning: ``build_fn`` will be renamed to ``model`` in a future release, at which point use of ``build_fn`` will raise an Error instead.\n",
      "  X, y = self._initialize(X, y)\n",
      "C:\\Users\\anasa\\AppData\\Roaming\\jupyterlab-desktop\\jlab_server\\Lib\\site-packages\\scikeras\\wrappers.py:925: UserWarning: ``build_fn`` will be renamed to ``model`` in a future release, at which point use of ``build_fn`` will raise an Error instead.\n",
      "  X, y = self._initialize(X, y)\n",
      "C:\\Users\\anasa\\AppData\\Roaming\\jupyterlab-desktop\\jlab_server\\Lib\\site-packages\\scikeras\\wrappers.py:925: UserWarning: ``build_fn`` will be renamed to ``model`` in a future release, at which point use of ``build_fn`` will raise an Error instead.\n",
      "  X, y = self._initialize(X, y)\n",
      "C:\\Users\\anasa\\AppData\\Roaming\\jupyterlab-desktop\\jlab_server\\Lib\\site-packages\\scikeras\\wrappers.py:925: UserWarning: ``build_fn`` will be renamed to ``model`` in a future release, at which point use of ``build_fn`` will raise an Error instead.\n",
      "  X, y = self._initialize(X, y)\n",
      "C:\\Users\\anasa\\AppData\\Roaming\\jupyterlab-desktop\\jlab_server\\Lib\\site-packages\\scikeras\\wrappers.py:925: UserWarning: ``build_fn`` will be renamed to ``model`` in a future release, at which point use of ``build_fn`` will raise an Error instead.\n",
      "  X, y = self._initialize(X, y)\n",
      "C:\\Users\\anasa\\AppData\\Roaming\\jupyterlab-desktop\\jlab_server\\Lib\\site-packages\\scikeras\\wrappers.py:925: UserWarning: ``build_fn`` will be renamed to ``model`` in a future release, at which point use of ``build_fn`` will raise an Error instead.\n",
      "  X, y = self._initialize(X, y)\n",
      "C:\\Users\\anasa\\AppData\\Roaming\\jupyterlab-desktop\\jlab_server\\Lib\\site-packages\\scikeras\\wrappers.py:925: UserWarning: ``build_fn`` will be renamed to ``model`` in a future release, at which point use of ``build_fn`` will raise an Error instead.\n",
      "  X, y = self._initialize(X, y)\n",
      "C:\\Users\\anasa\\AppData\\Roaming\\jupyterlab-desktop\\jlab_server\\Lib\\site-packages\\scikeras\\wrappers.py:925: UserWarning: ``build_fn`` will be renamed to ``model`` in a future release, at which point use of ``build_fn`` will raise an Error instead.\n",
      "  X, y = self._initialize(X, y)\n",
      "C:\\Users\\anasa\\AppData\\Roaming\\jupyterlab-desktop\\jlab_server\\Lib\\site-packages\\scikeras\\wrappers.py:925: UserWarning: ``build_fn`` will be renamed to ``model`` in a future release, at which point use of ``build_fn`` will raise an Error instead.\n",
      "  X, y = self._initialize(X, y)\n"
     ]
    }
   ],
   "source": [
    "grid_result = grid.fit(X_train_image_norm, y_train_cat)"
   ]
  },
  {
   "cell_type": "code",
   "execution_count": 47,
   "id": "09617052-8fb5-4f1b-896e-f2d97a09495a",
   "metadata": {},
   "outputs": [
    {
     "name": "stdout",
     "output_type": "stream",
     "text": [
      "Meilleurs paramètres : {'model__activation': 'relu', 'model__nb_units': 128, 'model__optimizer': 'adam'}\n",
      "Meilleur modèle : KerasClassifier(\n",
      "\tmodel=None\n",
      "\tbuild_fn=<function create_cnn_model_2 at 0x0000019BAD1271A0>\n",
      "\twarm_start=False\n",
      "\trandom_state=None\n",
      "\toptimizer=rmsprop\n",
      "\tloss=None\n",
      "\tmetrics=None\n",
      "\tbatch_size=None\n",
      "\tvalidation_batch_size=None\n",
      "\tverbose=0\n",
      "\tcallbacks=None\n",
      "\tvalidation_split=0.0\n",
      "\tshuffle=True\n",
      "\trun_eagerly=False\n",
      "\tepochs=1\n",
      "\tclass_weight=None\n",
      "\tmodel__activation=relu\n",
      "\tmodel__nb_units=128\n",
      "\tmodel__optimizer=adam\n",
      ")\n",
      "Meilleur score : 0.3668436441982148\n"
     ]
    }
   ],
   "source": [
    "# Meilleurs hyperparamètres trouvés\n",
    "best_params = grid_result.best_params_\n",
    "print(\"Meilleurs paramètres :\", best_params)\n",
    "\n",
    "# Meilleur estimateur (modèle)\n",
    "best_model = grid_result.best_estimator_\n",
    "print(\"Meilleur modèle :\", best_model)\n",
    "\n",
    "# Meilleur score de validation croisée\n",
    "best_score = grid_result.best_score_\n",
    "print(\"Meilleur score :\", best_score)"
   ]
  },
  {
   "cell_type": "markdown",
   "id": "6d9200ca-7637-4a1f-873e-ab49aff76d4b",
   "metadata": {},
   "source": [
    "### Sauvegarder votre meilleur modèle"
   ]
  },
  {
   "cell_type": "code",
   "execution_count": 48,
   "id": "4b4c6586-f1ae-4b20-89f2-d7f0e69ebc90",
   "metadata": {},
   "outputs": [
    {
     "name": "stdout",
     "output_type": "stream",
     "text": [
      "Loss (model_cnn): 0.11798509210348129\n",
      "Accuracy (model_cnn): 0.9712771773338318\n",
      "Meilleurs paramètres : {'model__activation': 'relu', 'model__nb_units': 128, 'model__optimizer': 'adam'}\n",
      "Best cross-validation score (best_model): 0.3668436441982148\n"
     ]
    }
   ],
   "source": [
    "# Évaluation de model_cnn (modèle de base) sur les données de test\n",
    "loss_cnn, accuracy_cnn = model_cnn.evaluate(X_test_image_norm, y_test_cat, verbose=0)\n",
    "print(f\"Loss (model_cnn): {loss_cnn}\")\n",
    "print(f\"Accuracy (model_cnn): {accuracy_cnn}\")\n",
    "\n",
    "# Meilleurs hyperparamètres trouvés par GridSearchCV\n",
    "best_params = grid_result.best_params_\n",
    "print(\"Meilleurs paramètres :\", best_params)\n",
    "\n",
    "# Meilleur score de validation croisée (GridSearchCV)\n",
    "best_score = grid_result.best_score_\n",
    "print(f\"Best cross-validation score (best_model): {best_score}\")\n",
    "\n",
    "# Comparaison des scores\n",
    "if accuracy_cnn > best_score:\n",
    "    best_model = model_cnn\n",
    "else:\n",
    "    best_model = best_model.model"
   ]
  },
  {
   "cell_type": "markdown",
   "id": "b429f877-2ab9-46aa-becc-fe51d7a4c88a",
   "metadata": {},
   "source": [
    "### Utiliser une technique d'augmentation d'images. Les résultats de vos modèles s'en trouvent-ils améliorés ? Était-ce prévisible ?"
   ]
  },
  {
   "cell_type": "code",
   "execution_count": 49,
   "id": "854ff1ac-62f3-4900-a75b-ffef12fdd858",
   "metadata": {},
   "outputs": [],
   "source": [
    "def create_cnn_model_with_augmentation(activation='relu', optimizer='adam', nb_units=64):\n",
    "    model = Sequential()\n",
    "\n",
    "    # Couche d'entrée avec augmentation des données\n",
    "    model.add(Input(shape=input_shape))\n",
    "    model.add(RandomFlip(\"horizontal\"))\n",
    "    model.add(RandomRotation(0.05))\n",
    "    model.add(RandomZoom(0.2))\n",
    "    model.add(RandomTranslation(height_factor=0.1, width_factor=0.1))\n",
    "\n",
    "    # Couches de convolution\n",
    "    model.add(Conv2D(nb_units//2, kernel_size=(3, 3), activation=activation, padding=\"same\"))\n",
    "    model.add(MaxPooling2D(pool_size=(2, 2)))\n",
    "    model.add(Dropout(0.25))\n",
    "\n",
    "    model.add(Conv2D(nb_units, kernel_size=(3, 3), activation=activation, padding=\"same\"))\n",
    "    model.add(MaxPooling2D(pool_size=(2, 2)))\n",
    "    model.add(Dropout(0.25))\n",
    "\n",
    "    model.add(Conv2D(nb_units*2, kernel_size=(3, 3), activation=activation, padding=\"same\"))\n",
    "    model.add(MaxPooling2D(pool_size=(2, 2)))\n",
    "    model.add(Dropout(0.4))\n",
    "\n",
    "    # Applatissement des images convoluées\n",
    "    model.add(Flatten())\n",
    "\n",
    "    # Couches denses servant à la classification\n",
    "    model.add(Dense(128, activation=activation))\n",
    "    model.add(Dropout(0.5))\n",
    "    model.add(Dense(64, activation=activation))\n",
    "\n",
    "    model.add(Dense(output_dim, activation=\"softmax\"))\n",
    "\n",
    "    model.compile(optimizer=optimizer, loss=\"categorical_crossentropy\", metrics=[\"categorical_accuracy\"])\n",
    "\n",
    "    return model"
   ]
  },
  {
   "cell_type": "code",
   "execution_count": 50,
   "id": "16468e46-8e29-40fc-bdc3-f9e22a3d3e07",
   "metadata": {},
   "outputs": [],
   "source": [
    "model_cnn_augmentation = create_cnn_model_with_augmentation(activation=best_params['model__activation'],\n",
    "                                optimizer=best_params['model__optimizer'],\n",
    "                                nb_units=best_params['model__nb_units'])"
   ]
  },
  {
   "cell_type": "markdown",
   "id": "2cbc0c2c-c979-4f4a-b098-df0b47ad711c",
   "metadata": {},
   "source": [
    "Remplacer les paramètres du fit par best_params"
   ]
  },
  {
   "cell_type": "code",
   "execution_count": 51,
   "id": "09af0cc9-86ef-46f0-abb8-4fc9025ac7d9",
   "metadata": {},
   "outputs": [
    {
     "name": "stdout",
     "output_type": "stream",
     "text": [
      "Epoch 1/50\n",
      "\u001b[1m813/813\u001b[0m \u001b[32m━━━━━━━━━━━━━━━━━━━━\u001b[0m\u001b[37m\u001b[0m \u001b[1m56s\u001b[0m 66ms/step - categorical_accuracy: 0.0481 - loss: 3.1822 - val_categorical_accuracy: 0.1954 - val_loss: 2.4039\n",
      "Epoch 2/50\n",
      "\u001b[1m813/813\u001b[0m \u001b[32m━━━━━━━━━━━━━━━━━━━━\u001b[0m\u001b[37m\u001b[0m \u001b[1m52s\u001b[0m 64ms/step - categorical_accuracy: 0.2067 - loss: 2.4789 - val_categorical_accuracy: 0.4816 - val_loss: 1.5291\n",
      "Epoch 3/50\n",
      "\u001b[1m813/813\u001b[0m \u001b[32m━━━━━━━━━━━━━━━━━━━━\u001b[0m\u001b[37m\u001b[0m \u001b[1m52s\u001b[0m 64ms/step - categorical_accuracy: 0.4016 - loss: 1.7816 - val_categorical_accuracy: 0.7242 - val_loss: 0.8598\n",
      "Epoch 4/50\n",
      "\u001b[1m813/813\u001b[0m \u001b[32m━━━━━━━━━━━━━━━━━━━━\u001b[0m\u001b[37m\u001b[0m \u001b[1m54s\u001b[0m 67ms/step - categorical_accuracy: 0.5178 - loss: 1.3960 - val_categorical_accuracy: 0.8099 - val_loss: 0.5609\n",
      "Epoch 5/50\n",
      "\u001b[1m813/813\u001b[0m \u001b[32m━━━━━━━━━━━━━━━━━━━━\u001b[0m\u001b[37m\u001b[0m \u001b[1m53s\u001b[0m 65ms/step - categorical_accuracy: 0.5975 - loss: 1.1509 - val_categorical_accuracy: 0.8440 - val_loss: 0.4721\n",
      "Epoch 6/50\n",
      "\u001b[1m813/813\u001b[0m \u001b[32m━━━━━━━━━━━━━━━━━━━━\u001b[0m\u001b[37m\u001b[0m \u001b[1m54s\u001b[0m 67ms/step - categorical_accuracy: 0.6476 - loss: 1.0286 - val_categorical_accuracy: 0.8676 - val_loss: 0.3679\n",
      "Epoch 7/50\n",
      "\u001b[1m813/813\u001b[0m \u001b[32m━━━━━━━━━━━━━━━━━━━━\u001b[0m\u001b[37m\u001b[0m \u001b[1m52s\u001b[0m 64ms/step - categorical_accuracy: 0.6813 - loss: 0.9144 - val_categorical_accuracy: 0.9025 - val_loss: 0.3293\n",
      "Epoch 8/50\n",
      "\u001b[1m813/813\u001b[0m \u001b[32m━━━━━━━━━━━━━━━━━━━━\u001b[0m\u001b[37m\u001b[0m \u001b[1m53s\u001b[0m 65ms/step - categorical_accuracy: 0.6973 - loss: 0.8635 - val_categorical_accuracy: 0.9115 - val_loss: 0.2586\n",
      "Epoch 9/50\n",
      "\u001b[1m813/813\u001b[0m \u001b[32m━━━━━━━━━━━━━━━━━━━━\u001b[0m\u001b[37m\u001b[0m \u001b[1m52s\u001b[0m 64ms/step - categorical_accuracy: 0.7216 - loss: 0.7912 - val_categorical_accuracy: 0.9159 - val_loss: 0.2346\n",
      "Epoch 10/50\n",
      "\u001b[1m813/813\u001b[0m \u001b[32m━━━━━━━━━━━━━━━━━━━━\u001b[0m\u001b[37m\u001b[0m \u001b[1m53s\u001b[0m 65ms/step - categorical_accuracy: 0.7348 - loss: 0.7606 - val_categorical_accuracy: 0.9480 - val_loss: 0.1845\n",
      "Epoch 11/50\n",
      "\u001b[1m813/813\u001b[0m \u001b[32m━━━━━━━━━━━━━━━━━━━━\u001b[0m\u001b[37m\u001b[0m \u001b[1m54s\u001b[0m 66ms/step - categorical_accuracy: 0.7523 - loss: 0.7118 - val_categorical_accuracy: 0.9683 - val_loss: 0.1498\n",
      "Epoch 12/50\n",
      "\u001b[1m813/813\u001b[0m \u001b[32m━━━━━━━━━━━━━━━━━━━━\u001b[0m\u001b[37m\u001b[0m \u001b[1m53s\u001b[0m 65ms/step - categorical_accuracy: 0.7591 - loss: 0.7046 - val_categorical_accuracy: 0.9427 - val_loss: 0.1626\n",
      "Epoch 13/50\n",
      "\u001b[1m813/813\u001b[0m \u001b[32m━━━━━━━━━━━━━━━━━━━━\u001b[0m\u001b[37m\u001b[0m \u001b[1m55s\u001b[0m 67ms/step - categorical_accuracy: 0.7729 - loss: 0.6475 - val_categorical_accuracy: 0.9489 - val_loss: 0.1531\n",
      "Epoch 14/50\n",
      "\u001b[1m813/813\u001b[0m \u001b[32m━━━━━━━━━━━━━━━━━━━━\u001b[0m\u001b[37m\u001b[0m \u001b[1m53s\u001b[0m 65ms/step - categorical_accuracy: 0.7818 - loss: 0.6229 - val_categorical_accuracy: 0.9633 - val_loss: 0.1223\n",
      "Epoch 15/50\n",
      "\u001b[1m813/813\u001b[0m \u001b[32m━━━━━━━━━━━━━━━━━━━━\u001b[0m\u001b[37m\u001b[0m \u001b[1m54s\u001b[0m 66ms/step - categorical_accuracy: 0.7930 - loss: 0.6003 - val_categorical_accuracy: 0.9766 - val_loss: 0.0899\n",
      "Epoch 16/50\n",
      "\u001b[1m813/813\u001b[0m \u001b[32m━━━━━━━━━━━━━━━━━━━━\u001b[0m\u001b[37m\u001b[0m \u001b[1m62s\u001b[0m 76ms/step - categorical_accuracy: 0.8000 - loss: 0.5864 - val_categorical_accuracy: 0.9729 - val_loss: 0.0869\n",
      "Epoch 17/50\n",
      "\u001b[1m813/813\u001b[0m \u001b[32m━━━━━━━━━━━━━━━━━━━━\u001b[0m\u001b[37m\u001b[0m \u001b[1m59s\u001b[0m 72ms/step - categorical_accuracy: 0.8148 - loss: 0.5458 - val_categorical_accuracy: 0.9742 - val_loss: 0.0830\n",
      "Epoch 18/50\n",
      "\u001b[1m813/813\u001b[0m \u001b[32m━━━━━━━━━━━━━━━━━━━━\u001b[0m\u001b[37m\u001b[0m \u001b[1m63s\u001b[0m 78ms/step - categorical_accuracy: 0.8147 - loss: 0.5310 - val_categorical_accuracy: 0.9738 - val_loss: 0.0828\n",
      "Epoch 19/50\n",
      "\u001b[1m813/813\u001b[0m \u001b[32m━━━━━━━━━━━━━━━━━━━━\u001b[0m\u001b[37m\u001b[0m \u001b[1m57s\u001b[0m 71ms/step - categorical_accuracy: 0.8206 - loss: 0.5275 - val_categorical_accuracy: 0.9753 - val_loss: 0.0818\n",
      "Epoch 20/50\n",
      "\u001b[1m813/813\u001b[0m \u001b[32m━━━━━━━━━━━━━━━━━━━━\u001b[0m\u001b[37m\u001b[0m \u001b[1m55s\u001b[0m 68ms/step - categorical_accuracy: 0.8237 - loss: 0.5070 - val_categorical_accuracy: 0.9779 - val_loss: 0.0782\n",
      "Epoch 21/50\n",
      "\u001b[1m813/813\u001b[0m \u001b[32m━━━━━━━━━━━━━━━━━━━━\u001b[0m\u001b[37m\u001b[0m \u001b[1m56s\u001b[0m 68ms/step - categorical_accuracy: 0.8336 - loss: 0.5003 - val_categorical_accuracy: 0.9812 - val_loss: 0.0637\n",
      "Epoch 22/50\n",
      "\u001b[1m813/813\u001b[0m \u001b[32m━━━━━━━━━━━━━━━━━━━━\u001b[0m\u001b[37m\u001b[0m \u001b[1m56s\u001b[0m 69ms/step - categorical_accuracy: 0.8386 - loss: 0.4787 - val_categorical_accuracy: 0.9753 - val_loss: 0.0680\n",
      "Epoch 23/50\n",
      "\u001b[1m813/813\u001b[0m \u001b[32m━━━━━━━━━━━━━━━━━━━━\u001b[0m\u001b[37m\u001b[0m \u001b[1m58s\u001b[0m 71ms/step - categorical_accuracy: 0.8406 - loss: 0.4789 - val_categorical_accuracy: 0.9777 - val_loss: 0.0627\n",
      "Epoch 24/50\n",
      "\u001b[1m813/813\u001b[0m \u001b[32m━━━━━━━━━━━━━━━━━━━━\u001b[0m\u001b[37m\u001b[0m \u001b[1m59s\u001b[0m 72ms/step - categorical_accuracy: 0.8456 - loss: 0.4617 - val_categorical_accuracy: 0.9797 - val_loss: 0.0654\n",
      "Epoch 25/50\n",
      "\u001b[1m813/813\u001b[0m \u001b[32m━━━━━━━━━━━━━━━━━━━━\u001b[0m\u001b[37m\u001b[0m \u001b[1m63s\u001b[0m 77ms/step - categorical_accuracy: 0.8452 - loss: 0.4652 - val_categorical_accuracy: 0.9851 - val_loss: 0.0487\n",
      "Epoch 26/50\n",
      "\u001b[1m813/813\u001b[0m \u001b[32m━━━━━━━━━━━━━━━━━━━━\u001b[0m\u001b[37m\u001b[0m \u001b[1m59s\u001b[0m 72ms/step - categorical_accuracy: 0.8567 - loss: 0.4323 - val_categorical_accuracy: 0.9812 - val_loss: 0.0605\n",
      "Epoch 27/50\n",
      "\u001b[1m813/813\u001b[0m \u001b[32m━━━━━━━━━━━━━━━━━━━━\u001b[0m\u001b[37m\u001b[0m \u001b[1m75s\u001b[0m 93ms/step - categorical_accuracy: 0.8537 - loss: 0.4453 - val_categorical_accuracy: 0.9790 - val_loss: 0.0598\n",
      "Epoch 28/50\n",
      "\u001b[1m813/813\u001b[0m \u001b[32m━━━━━━━━━━━━━━━━━━━━\u001b[0m\u001b[37m\u001b[0m \u001b[1m61s\u001b[0m 75ms/step - categorical_accuracy: 0.8533 - loss: 0.4426 - val_categorical_accuracy: 0.9869 - val_loss: 0.0366\n",
      "Epoch 29/50\n",
      "\u001b[1m813/813\u001b[0m \u001b[32m━━━━━━━━━━━━━━━━━━━━\u001b[0m\u001b[37m\u001b[0m \u001b[1m90s\u001b[0m 110ms/step - categorical_accuracy: 0.8605 - loss: 0.4024 - val_categorical_accuracy: 0.9812 - val_loss: 0.0547\n",
      "Epoch 30/50\n",
      "\u001b[1m813/813\u001b[0m \u001b[32m━━━━━━━━━━━━━━━━━━━━\u001b[0m\u001b[37m\u001b[0m \u001b[1m92s\u001b[0m 114ms/step - categorical_accuracy: 0.8690 - loss: 0.3971 - val_categorical_accuracy: 0.9882 - val_loss: 0.0429\n",
      "Epoch 31/50\n",
      "\u001b[1m813/813\u001b[0m \u001b[32m━━━━━━━━━━━━━━━━━━━━\u001b[0m\u001b[37m\u001b[0m \u001b[1m103s\u001b[0m 66ms/step - categorical_accuracy: 0.8635 - loss: 0.4030 - val_categorical_accuracy: 0.9899 - val_loss: 0.0332\n",
      "Epoch 32/50\n",
      "\u001b[1m813/813\u001b[0m \u001b[32m━━━━━━━━━━━━━━━━━━━━\u001b[0m\u001b[37m\u001b[0m \u001b[1m56s\u001b[0m 69ms/step - categorical_accuracy: 0.8678 - loss: 0.3959 - val_categorical_accuracy: 0.9926 - val_loss: 0.0264\n",
      "Epoch 33/50\n",
      "\u001b[1m813/813\u001b[0m \u001b[32m━━━━━━━━━━━━━━━━━━━━\u001b[0m\u001b[37m\u001b[0m \u001b[1m57s\u001b[0m 70ms/step - categorical_accuracy: 0.8716 - loss: 0.3904 - val_categorical_accuracy: 0.9928 - val_loss: 0.0269\n",
      "Epoch 34/50\n",
      "\u001b[1m813/813\u001b[0m \u001b[32m━━━━━━━━━━━━━━━━━━━━\u001b[0m\u001b[37m\u001b[0m \u001b[1m77s\u001b[0m 63ms/step - categorical_accuracy: 0.8728 - loss: 0.3815 - val_categorical_accuracy: 0.9893 - val_loss: 0.0303\n",
      "Epoch 35/50\n",
      "\u001b[1m813/813\u001b[0m \u001b[32m━━━━━━━━━━━━━━━━━━━━\u001b[0m\u001b[37m\u001b[0m \u001b[1m53s\u001b[0m 66ms/step - categorical_accuracy: 0.8769 - loss: 0.3721 - val_categorical_accuracy: 0.9886 - val_loss: 0.0357\n"
     ]
    }
   ],
   "source": [
    "history_cnn_augmentation = model_cnn_augmentation.fit(\n",
    "    X_train_image_norm,\n",
    "    y_train_cat,\n",
    "    epochs=nb_epochs,\n",
    "    validation_data=(X_val_image_norm, y_val_cat),\n",
    "    callbacks=[EarlyStopping(patience=3)]\n",
    ")"
   ]
  },
  {
   "cell_type": "code",
   "execution_count": 52,
   "id": "fd991fb5-1bb8-40af-9042-d1ad385fc667",
   "metadata": {},
   "outputs": [
    {
     "name": "stdout",
     "output_type": "stream",
     "text": [
      "Accuracy without augmentation: 0.9712771773338318\n",
      "Accuracy with augmentation: 0.9765755534172058\n",
      "Le modèle avec augmentation d'images est meilleur.\n"
     ]
    }
   ],
   "source": [
    "# Modèle sans augmentation d'images\n",
    "loss_no_aug, acc_no_aug = best_model.evaluate(X_test_image_norm, y_test_cat, verbose=0)\n",
    "print(f\"Accuracy without augmentation: {acc_no_aug}\")\n",
    "\n",
    "# Modèle avec augmentation d'images\n",
    "loss_aug, acc_aug = model_cnn_augmentation.evaluate(X_test_image_norm, y_test_cat, verbose=0)\n",
    "print(f\"Accuracy with augmentation: {acc_aug}\")\n",
    "\n",
    "# Comparaison des résultats\n",
    "if acc_aug > acc_no_aug:\n",
    "    print(\"Le modèle avec augmentation d'images est meilleur.\")\n",
    "    best_model.save('best_model.keras')\n",
    "else:\n",
    "    print(\"Le modèle sans augmentation d'images est meilleur.\")\n",
    "    model_cnn_augmentation.save('best_model.keras')"
   ]
  },
  {
   "cell_type": "code",
   "execution_count": 53,
   "id": "b3029a35-552d-4d20-9aca-7d01b6b7708c",
   "metadata": {},
   "outputs": [
    {
     "data": {
      "image/png": "[encoded data removed]",
      "text/plain": [
       "<Figure size 1500x1000 with 24 Axes>"
      ]
     },
     "metadata": {},
     "output_type": "display_data"
    }
   ],
   "source": [
    "# Initialiser une figure pour afficher les images\n",
    "plt.figure(figsize=(15, 10))\n",
    "\n",
    "# Parcourir les lettres de A à Z\n",
    "for letter in range(26):\n",
    "    # Trouver un indice pour chaque lettre\n",
    "    indices = [i for i, label in enumerate(y_train) if label == letter]\n",
    "    if indices:  # Vérifier si des images existent pour cette lettre\n",
    "        plt.subplot(5, 6, letter + 1)  # 5 lignes, 6 colonnes\n",
    "        plt.imshow(X_train_image[indices[0]])  # Afficher la première image pour cette lettre\n",
    "        plt.title(inv_labels[letter])  # Titre de la lettre\n",
    "        plt.axis('off')  # Pas d'axes\n",
    "\n",
    "plt.tight_layout()\n",
    "plt.show()"
   ]
  }
 ],
 "metadata": {
  "kernelspec": {
   "display_name": "Python 3 (ipykernel)",
   "language": "python",
   "name": "python3"
  },
  "language_info": {
   "codemirror_mode": {
    "name": "ipython",
    "version": 3
   },
   "file_extension": ".py",
   "mimetype": "text/x-python",
   "name": "python",
   "nbconvert_exporter": "python",
   "pygments_lexer": "ipython3",
   "version": "3.12.3"
  },
  "widgets": {
   "application/vnd.jupyter.widget-state+json": {
    "state": {},
    "version_major": 2,
    "version_minor": 0
   }
  }
 },
 "nbformat": 4,
 "nbformat_minor": 5
}
